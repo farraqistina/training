{
 "cells": [
  {
   "cell_type": "markdown",
   "metadata": {},
   "source": [
    "### Cleaning the Total Losses dataframe\n",
    "**Dataset:** [Total economic losses per country and event type (1980-2023)](https://climate-adapt.eea.europa.eu/en/knowledge/economic-losses/economic-losses-and-fatalities?activeTab=31d4b1fa-94dc-47ee-81bd-5b80fb3909f9)\n",
    "\n",
    "**Steps Taken:**\n",
    "1. Import pandas and read in the dataset\n",
    "2. Basic cleaning\n",
    "3. Rename columns for clarity\n",
    "4. Drop unused columns\n",
    "5. Removes rows containing 'tooltip'"
   ]
  },
  {
   "cell_type": "code",
   "execution_count": 17,
   "metadata": {},
   "outputs": [
    {
     "data": {
      "text/html": [
       "<div>\n",
       "<style scoped>\n",
       "    .dataframe tbody tr th:only-of-type {\n",
       "        vertical-align: middle;\n",
       "    }\n",
       "\n",
       "    .dataframe tbody tr th {\n",
       "        vertical-align: top;\n",
       "    }\n",
       "\n",
       "    .dataframe thead th {\n",
       "        text-align: right;\n",
       "    }\n",
       "</style>\n",
       "<table border=\"1\" class=\"dataframe\">\n",
       "  <thead>\n",
       "    <tr style=\"text-align: right;\">\n",
       "      <th></th>\n",
       "      <th>Country</th>\n",
       "      <th>Hazard Subtype</th>\n",
       "      <th>Losses Currency</th>\n",
       "      <th>Field Values</th>\n",
       "      <th>Hydrological</th>\n",
       "      <th>Meteorological</th>\n",
       "      <th>Climatological (heatwaves)</th>\n",
       "      <th>Climatological (Other)</th>\n",
       "    </tr>\n",
       "  </thead>\n",
       "  <tbody>\n",
       "    <tr>\n",
       "      <th>0</th>\n",
       "      <td>Albania (AL)</td>\n",
       "      <td>Climatological (heatwaves)</td>\n",
       "      <td>M€</td>\n",
       "      <td>Field Values</td>\n",
       "      <td>NaN</td>\n",
       "      <td>NaN</td>\n",
       "      <td>0</td>\n",
       "      <td>NaN</td>\n",
       "    </tr>\n",
       "    <tr>\n",
       "      <th>3</th>\n",
       "      <td>Albania (AL)</td>\n",
       "      <td>Climatological (Other)</td>\n",
       "      <td>M€</td>\n",
       "      <td>Field Values</td>\n",
       "      <td>NaN</td>\n",
       "      <td>NaN</td>\n",
       "      <td>NaN</td>\n",
       "      <td>76</td>\n",
       "    </tr>\n",
       "    <tr>\n",
       "      <th>6</th>\n",
       "      <td>Albania (AL)</td>\n",
       "      <td>Hydrological</td>\n",
       "      <td>M€</td>\n",
       "      <td>Field Values</td>\n",
       "      <td>343</td>\n",
       "      <td>NaN</td>\n",
       "      <td>NaN</td>\n",
       "      <td>NaN</td>\n",
       "    </tr>\n",
       "    <tr>\n",
       "      <th>9</th>\n",
       "      <td>Albania (AL)</td>\n",
       "      <td>Meteorological</td>\n",
       "      <td>M€</td>\n",
       "      <td>Field Values</td>\n",
       "      <td>NaN</td>\n",
       "      <td>10</td>\n",
       "      <td>NaN</td>\n",
       "      <td>NaN</td>\n",
       "    </tr>\n",
       "    <tr>\n",
       "      <th>12</th>\n",
       "      <td>Austria (AT)</td>\n",
       "      <td>Climatological (heatwaves)</td>\n",
       "      <td>M€</td>\n",
       "      <td>Field Values</td>\n",
       "      <td>NaN</td>\n",
       "      <td>NaN</td>\n",
       "      <td>1 673</td>\n",
       "      <td>NaN</td>\n",
       "    </tr>\n",
       "  </tbody>\n",
       "</table>\n",
       "</div>"
      ],
      "text/plain": [
       "         Country              Hazard Subtype Losses Currency  Field Values  \\\n",
       "0   Albania (AL)  Climatological (heatwaves)              M€  Field Values   \n",
       "3   Albania (AL)      Climatological (Other)              M€  Field Values   \n",
       "6   Albania (AL)                Hydrological              M€  Field Values   \n",
       "9   Albania (AL)              Meteorological              M€  Field Values   \n",
       "12  Austria (AT)  Climatological (heatwaves)              M€  Field Values   \n",
       "\n",
       "   Hydrological Meteorological Climatological (heatwaves)  \\\n",
       "0           NaN            NaN                          0   \n",
       "3           NaN            NaN                        NaN   \n",
       "6           343            NaN                        NaN   \n",
       "9           NaN             10                        NaN   \n",
       "12          NaN            NaN                      1 673   \n",
       "\n",
       "   Climatological (Other)  \n",
       "0                     NaN  \n",
       "3                      76  \n",
       "6                     NaN  \n",
       "9                     NaN  \n",
       "12                    NaN  "
      ]
     },
     "execution_count": 17,
     "metadata": {},
     "output_type": "execute_result"
    }
   ],
   "source": [
    "import pandas as pd\n",
    "\n",
    "totaldf = pd.read_csv('tab_type.csv', encoding=\"utf-16\", sep=\"\\t\", header=1)\n",
    "\n",
    "totaldf = totaldf.drop_duplicates()  # Remove duplicate rows\n",
    "totaldf.columns = totaldf.columns.str.strip()  # Strip whitespace\n",
    "totaldf = totaldf.reset_index(drop=True)\n",
    "\n",
    "totaldf = totaldf.rename(columns={\n",
    "    'Unnamed: 0': 'Country',\n",
    "    'Unnamed: 1': 'Country 2',\n",
    "    'Unnamed: 2': 'Data Source',\n",
    "    'Unnamed: 3': 'Hazard Type',\n",
    "    'Unnamed: 4': 'Hazard Subtype',\n",
    "    'Unnamed: 5': 'Losses Currency',\n",
    "    'Unnamed: 6': 'Field Values',\n",
    "})\n",
    "#drop column Country 2 and Field Values, data source, hazard type\n",
    "totaldf = totaldf.drop(columns=['Country 2'])\n",
    "totaldf = totaldf.drop(columns=['Data Source'])\n",
    "totaldf = totaldf.drop(columns=['Hazard Type'])\n",
    "totaldf = totaldf[~totaldf[\"Field Values\"].astype(str).str.contains(\"tooltip\", case=False, na=False)]\n",
    "\n",
    "totaldf.head(5)\n"
   ]
  },
  {
   "cell_type": "markdown",
   "metadata": {},
   "source": [
    "### Cleaning the Insured Losses dataframe\n",
    "**Dataset:** [Total insured losses per country and event type (1980-2023)](https://climate-adapt.eea.europa.eu/en/knowledge/economic-losses/economic-losses-and-fatalities?activeTab=31d4b1fa-94dc-47ee-81bd-5b80fb3909f9)\n",
    "\n",
    "**Steps Taken:**\n",
    "1. Basic cleaning\n",
    "2. Rename columns for clarity\n",
    "3. Drop unused columns\n",
    "4. Removes rows containing 'tooltip'"
   ]
  },
  {
   "cell_type": "code",
   "execution_count": 18,
   "metadata": {},
   "outputs": [
    {
     "data": {
      "text/html": [
       "<div>\n",
       "<style scoped>\n",
       "    .dataframe tbody tr th:only-of-type {\n",
       "        vertical-align: middle;\n",
       "    }\n",
       "\n",
       "    .dataframe tbody tr th {\n",
       "        vertical-align: top;\n",
       "    }\n",
       "\n",
       "    .dataframe thead th {\n",
       "        text-align: right;\n",
       "    }\n",
       "</style>\n",
       "<table border=\"1\" class=\"dataframe\">\n",
       "  <thead>\n",
       "    <tr style=\"text-align: right;\">\n",
       "      <th></th>\n",
       "      <th>Country</th>\n",
       "      <th>Hazard Subtype</th>\n",
       "      <th>Losses Currency</th>\n",
       "      <th>Field Values</th>\n",
       "      <th>Hydrological</th>\n",
       "      <th>Meteorological</th>\n",
       "      <th>Climatological (heatwaves)</th>\n",
       "      <th>Climatological (Other)</th>\n",
       "    </tr>\n",
       "  </thead>\n",
       "  <tbody>\n",
       "    <tr>\n",
       "      <th>0</th>\n",
       "      <td>Albania (AL)</td>\n",
       "      <td>Climatological (heatwaves)</td>\n",
       "      <td>M€</td>\n",
       "      <td>Field Values</td>\n",
       "      <td>NaN</td>\n",
       "      <td>NaN</td>\n",
       "      <td>0</td>\n",
       "      <td>NaN</td>\n",
       "    </tr>\n",
       "    <tr>\n",
       "      <th>3</th>\n",
       "      <td>Albania (AL)</td>\n",
       "      <td>Climatological (Other)</td>\n",
       "      <td>M€</td>\n",
       "      <td>Field Values</td>\n",
       "      <td>NaN</td>\n",
       "      <td>NaN</td>\n",
       "      <td>NaN</td>\n",
       "      <td>0</td>\n",
       "    </tr>\n",
       "    <tr>\n",
       "      <th>6</th>\n",
       "      <td>Albania (AL)</td>\n",
       "      <td>Hydrological</td>\n",
       "      <td>M€</td>\n",
       "      <td>Field Values</td>\n",
       "      <td>0</td>\n",
       "      <td>NaN</td>\n",
       "      <td>NaN</td>\n",
       "      <td>NaN</td>\n",
       "    </tr>\n",
       "    <tr>\n",
       "      <th>9</th>\n",
       "      <td>Albania (AL)</td>\n",
       "      <td>Meteorological</td>\n",
       "      <td>M€</td>\n",
       "      <td>Field Values</td>\n",
       "      <td>NaN</td>\n",
       "      <td>0</td>\n",
       "      <td>NaN</td>\n",
       "      <td>NaN</td>\n",
       "    </tr>\n",
       "    <tr>\n",
       "      <th>12</th>\n",
       "      <td>Austria (AT)</td>\n",
       "      <td>Climatological (heatwaves)</td>\n",
       "      <td>M€</td>\n",
       "      <td>Field Values</td>\n",
       "      <td>NaN</td>\n",
       "      <td>NaN</td>\n",
       "      <td>14</td>\n",
       "      <td>NaN</td>\n",
       "    </tr>\n",
       "  </tbody>\n",
       "</table>\n",
       "</div>"
      ],
      "text/plain": [
       "         Country              Hazard Subtype Losses Currency  Field Values  \\\n",
       "0   Albania (AL)  Climatological (heatwaves)              M€  Field Values   \n",
       "3   Albania (AL)      Climatological (Other)              M€  Field Values   \n",
       "6   Albania (AL)                Hydrological              M€  Field Values   \n",
       "9   Albania (AL)              Meteorological              M€  Field Values   \n",
       "12  Austria (AT)  Climatological (heatwaves)              M€  Field Values   \n",
       "\n",
       "   Hydrological Meteorological Climatological (heatwaves)  \\\n",
       "0           NaN            NaN                          0   \n",
       "3           NaN            NaN                        NaN   \n",
       "6             0            NaN                        NaN   \n",
       "9           NaN              0                        NaN   \n",
       "12          NaN            NaN                         14   \n",
       "\n",
       "   Climatological (Other)  \n",
       "0                     NaN  \n",
       "3                       0  \n",
       "6                     NaN  \n",
       "9                     NaN  \n",
       "12                    NaN  "
      ]
     },
     "execution_count": 18,
     "metadata": {},
     "output_type": "execute_result"
    }
   ],
   "source": [
    "insureddf = pd.read_csv('insuredlosses.csv', encoding=\"utf-16\", sep=\"\\t\", header=1)\n",
    "\n",
    "# Basic cleaning\n",
    "\n",
    "insureddf = insureddf.drop_duplicates()  # Remove duplicate rows\n",
    "insureddf.columns = insureddf.columns.str.strip()  # Strip whitespace\n",
    "insureddf = insureddf.reset_index(drop=True)\n",
    "\n",
    "#rename columns\n",
    "insureddf = insureddf.rename(columns={\n",
    "    'Unnamed: 0': 'Country',\n",
    "    'Unnamed: 1': 'Country 2',\n",
    "    'Unnamed: 2': 'Data Source',\n",
    "    'Unnamed: 3': 'Hazard Type',\n",
    "    'Unnamed: 4': 'Hazard Subtype',\n",
    "    'Unnamed: 5': 'Losses Currency',\n",
    "    'Unnamed: 6': 'Field Values',\n",
    "})\n",
    "\n",
    "#drop column Country 2 and Field Values, data source, hazard type\n",
    "insureddf = insureddf.drop(columns=['Country 2'])\n",
    "insureddf = insureddf.drop(columns=['Data Source'])\n",
    "insureddf = insureddf.drop(columns=['Hazard Type'])\n",
    "insureddf = insureddf[~insureddf[\"Field Values\"].astype(str).str.contains(\"tooltip\", case=False, na=False)]\n",
    "\n",
    "# Preview\n",
    "insureddf.head(5)\n"
   ]
  },
  {
   "cell_type": "markdown",
   "metadata": {},
   "source": [
    "# Cleaning before merging"
   ]
  },
  {
   "cell_type": "code",
   "execution_count": null,
   "metadata": {},
   "outputs": [
    {
     "data": {
      "text/html": [
       "<div>\n",
       "<style scoped>\n",
       "    .dataframe tbody tr th:only-of-type {\n",
       "        vertical-align: middle;\n",
       "    }\n",
       "\n",
       "    .dataframe tbody tr th {\n",
       "        vertical-align: top;\n",
       "    }\n",
       "\n",
       "    .dataframe thead th {\n",
       "        text-align: right;\n",
       "    }\n",
       "</style>\n",
       "<table border=\"1\" class=\"dataframe\">\n",
       "  <thead>\n",
       "    <tr style=\"text-align: right;\">\n",
       "      <th></th>\n",
       "      <th>Country</th>\n",
       "      <th>Hazard</th>\n",
       "      <th>Insured Loss in MEUR</th>\n",
       "    </tr>\n",
       "  </thead>\n",
       "  <tbody>\n",
       "    <tr>\n",
       "      <th>0</th>\n",
       "      <td>Albania (AL)</td>\n",
       "      <td>Climatological (Other)</td>\n",
       "      <td>0.0</td>\n",
       "    </tr>\n",
       "    <tr>\n",
       "      <th>1</th>\n",
       "      <td>Albania (AL)</td>\n",
       "      <td>Climatological (heatwaves)</td>\n",
       "      <td>0.0</td>\n",
       "    </tr>\n",
       "    <tr>\n",
       "      <th>2</th>\n",
       "      <td>Albania (AL)</td>\n",
       "      <td>Hydrological</td>\n",
       "      <td>0.0</td>\n",
       "    </tr>\n",
       "    <tr>\n",
       "      <th>3</th>\n",
       "      <td>Albania (AL)</td>\n",
       "      <td>Meteorological</td>\n",
       "      <td>0.0</td>\n",
       "    </tr>\n",
       "    <tr>\n",
       "      <th>4</th>\n",
       "      <td>Austria (AT)</td>\n",
       "      <td>Climatological (Other)</td>\n",
       "      <td>624.0</td>\n",
       "    </tr>\n",
       "    <tr>\n",
       "      <th>5</th>\n",
       "      <td>Austria (AT)</td>\n",
       "      <td>Climatological (heatwaves)</td>\n",
       "      <td>14.0</td>\n",
       "    </tr>\n",
       "    <tr>\n",
       "      <th>6</th>\n",
       "      <td>Austria (AT)</td>\n",
       "      <td>Hydrological</td>\n",
       "      <td>1049.0</td>\n",
       "    </tr>\n",
       "    <tr>\n",
       "      <th>7</th>\n",
       "      <td>Austria (AT)</td>\n",
       "      <td>Meteorological</td>\n",
       "      <td>1100.0</td>\n",
       "    </tr>\n",
       "    <tr>\n",
       "      <th>8</th>\n",
       "      <td>Belgium (BE)</td>\n",
       "      <td>Climatological (Other)</td>\n",
       "      <td>0.0</td>\n",
       "    </tr>\n",
       "    <tr>\n",
       "      <th>9</th>\n",
       "      <td>Belgium (BE)</td>\n",
       "      <td>Climatological (heatwaves)</td>\n",
       "      <td>0.0</td>\n",
       "    </tr>\n",
       "  </tbody>\n",
       "</table>\n",
       "</div>"
      ],
      "text/plain": [
       "        Country                      Hazard  Insured Loss in MEUR\n",
       "0  Albania (AL)      Climatological (Other)                   0.0\n",
       "1  Albania (AL)  Climatological (heatwaves)                   0.0\n",
       "2  Albania (AL)                Hydrological                   0.0\n",
       "3  Albania (AL)              Meteorological                   0.0\n",
       "4  Austria (AT)      Climatological (Other)                 624.0\n",
       "5  Austria (AT)  Climatological (heatwaves)                  14.0\n",
       "6  Austria (AT)                Hydrological                1049.0\n",
       "7  Austria (AT)              Meteorological                1100.0\n",
       "8  Belgium (BE)      Climatological (Other)                   0.0\n",
       "9  Belgium (BE)  Climatological (heatwaves)                   0.0"
      ]
     },
     "metadata": {},
     "output_type": "display_data"
    },
    {
     "data": {
      "text/html": [
       "<div>\n",
       "<style scoped>\n",
       "    .dataframe tbody tr th:only-of-type {\n",
       "        vertical-align: middle;\n",
       "    }\n",
       "\n",
       "    .dataframe tbody tr th {\n",
       "        vertical-align: top;\n",
       "    }\n",
       "\n",
       "    .dataframe thead th {\n",
       "        text-align: right;\n",
       "    }\n",
       "</style>\n",
       "<table border=\"1\" class=\"dataframe\">\n",
       "  <thead>\n",
       "    <tr style=\"text-align: right;\">\n",
       "      <th></th>\n",
       "      <th>Country</th>\n",
       "      <th>Hazard</th>\n",
       "      <th>Total Loss in MEUR</th>\n",
       "    </tr>\n",
       "  </thead>\n",
       "  <tbody>\n",
       "    <tr>\n",
       "      <th>0</th>\n",
       "      <td>Albania (AL)</td>\n",
       "      <td>Climatological (Other)</td>\n",
       "      <td>76.0</td>\n",
       "    </tr>\n",
       "    <tr>\n",
       "      <th>1</th>\n",
       "      <td>Albania (AL)</td>\n",
       "      <td>Climatological (heatwaves)</td>\n",
       "      <td>0.0</td>\n",
       "    </tr>\n",
       "    <tr>\n",
       "      <th>2</th>\n",
       "      <td>Albania (AL)</td>\n",
       "      <td>Hydrological</td>\n",
       "      <td>343.0</td>\n",
       "    </tr>\n",
       "    <tr>\n",
       "      <th>3</th>\n",
       "      <td>Albania (AL)</td>\n",
       "      <td>Meteorological</td>\n",
       "      <td>10.0</td>\n",
       "    </tr>\n",
       "    <tr>\n",
       "      <th>4</th>\n",
       "      <td>Austria (AT)</td>\n",
       "      <td>Climatological (Other)</td>\n",
       "      <td>1472.0</td>\n",
       "    </tr>\n",
       "    <tr>\n",
       "      <th>5</th>\n",
       "      <td>Austria (AT)</td>\n",
       "      <td>Climatological (heatwaves)</td>\n",
       "      <td>1673.0</td>\n",
       "    </tr>\n",
       "    <tr>\n",
       "      <th>6</th>\n",
       "      <td>Austria (AT)</td>\n",
       "      <td>Hydrological</td>\n",
       "      <td>7519.0</td>\n",
       "    </tr>\n",
       "    <tr>\n",
       "      <th>7</th>\n",
       "      <td>Austria (AT)</td>\n",
       "      <td>Meteorological</td>\n",
       "      <td>4062.0</td>\n",
       "    </tr>\n",
       "    <tr>\n",
       "      <th>8</th>\n",
       "      <td>Belgium (BE)</td>\n",
       "      <td>Climatological (Other)</td>\n",
       "      <td>0.0</td>\n",
       "    </tr>\n",
       "    <tr>\n",
       "      <th>9</th>\n",
       "      <td>Belgium (BE)</td>\n",
       "      <td>Climatological (heatwaves)</td>\n",
       "      <td>280.0</td>\n",
       "    </tr>\n",
       "  </tbody>\n",
       "</table>\n",
       "</div>"
      ],
      "text/plain": [
       "        Country                      Hazard  Total Loss in MEUR\n",
       "0  Albania (AL)      Climatological (Other)                76.0\n",
       "1  Albania (AL)  Climatological (heatwaves)                 0.0\n",
       "2  Albania (AL)                Hydrological               343.0\n",
       "3  Albania (AL)              Meteorological                10.0\n",
       "4  Austria (AT)      Climatological (Other)              1472.0\n",
       "5  Austria (AT)  Climatological (heatwaves)              1673.0\n",
       "6  Austria (AT)                Hydrological              7519.0\n",
       "7  Austria (AT)              Meteorological              4062.0\n",
       "8  Belgium (BE)      Climatological (Other)                 0.0\n",
       "9  Belgium (BE)  Climatological (heatwaves)               280.0"
      ]
     },
     "metadata": {},
     "output_type": "display_data"
    }
   ],
   "source": [
    "import re\n",
    "import pandas as pd\n",
    "\n",
    "def tidy_losses(df, value_name):\n",
    "    df = df.copy()\n",
    "\n",
    "    # Normalize names and strings\n",
    "    df.columns = [c.strip() for c in df.columns]\n",
    "    for c in ['Country']:\n",
    "        if c in df.columns:\n",
    "            df[c] = df[c].astype(str).str.strip()\n",
    "\n",
    "    # Select hazard columns explicitly\n",
    "    hazard_cols = [c for c in df.columns if c in [\n",
    "        'Hydrological',\n",
    "        'Meteorological',\n",
    "        'Climatological (heatwaves)',\n",
    "        'Climatological (Other)'\n",
    "    ]]\n",
    "\n",
    "    # Melt: only keep Country \n",
    "    tidy = df.melt(\n",
    "        id_vars=[c for c in ['Country'] if c in df.columns],\n",
    "        value_vars=hazard_cols,\n",
    "        var_name='Hazard',\n",
    "        value_name=value_name\n",
    "    )\n",
    "\n",
    "    # Clean numbers\n",
    "    tidy[value_name] = (\n",
    "        tidy[value_name].astype(str)\n",
    "        .str.replace(',', '', regex=False)\n",
    "        .str.replace('\\u00a0', '', regex=False)  # NBSP\n",
    "        .str.replace(' ', '', regex=False)      # space as thousands sep\n",
    "        .apply(lambda x: re.sub(r'[^0-9.\\-]', '', x))\n",
    "        .replace({'': None, '.': None, '-': None})\n",
    "        .astype(float)\n",
    "    )\n",
    "\n",
    "    # Drop rows with no values\n",
    "    tidy = tidy[tidy[value_name].notna()]\n",
    "\n",
    "    # Sort\n",
    "    tidy = tidy.sort_values(['Country','Hazard']).reset_index(drop=True)\n",
    "    return tidy\n",
    "\n",
    "from IPython.display import display\n",
    "\n",
    "insured_tidy = tidy_losses(insureddf, 'Insured Loss in MEUR')\n",
    "display(insured_tidy.head(10))\n",
    "\n",
    "total_tidy = tidy_losses(totaldf, 'Total Loss in MEUR')\n",
    "\n",
    "display(total_tidy.head(10))"
   ]
  },
  {
   "cell_type": "code",
   "execution_count": null,
   "metadata": {},
   "outputs": [
    {
     "data": {
      "text/html": [
       "<div>\n",
       "<style scoped>\n",
       "    .dataframe tbody tr th:only-of-type {\n",
       "        vertical-align: middle;\n",
       "    }\n",
       "\n",
       "    .dataframe tbody tr th {\n",
       "        vertical-align: top;\n",
       "    }\n",
       "\n",
       "    .dataframe thead th {\n",
       "        text-align: right;\n",
       "    }\n",
       "</style>\n",
       "<table border=\"1\" class=\"dataframe\">\n",
       "  <thead>\n",
       "    <tr style=\"text-align: right;\">\n",
       "      <th></th>\n",
       "      <th>Country</th>\n",
       "      <th>Hazard</th>\n",
       "      <th>Total Loss in MEUR</th>\n",
       "      <th>Insured Loss in MEUR</th>\n",
       "      <th>Gap in MEUR</th>\n",
       "      <th>Gap (%)</th>\n",
       "    </tr>\n",
       "  </thead>\n",
       "  <tbody>\n",
       "    <tr>\n",
       "      <th>0</th>\n",
       "      <td>Albania (AL)</td>\n",
       "      <td>Climatological (Other)</td>\n",
       "      <td>76.0</td>\n",
       "      <td>0.0</td>\n",
       "      <td>76.0</td>\n",
       "      <td>1.0</td>\n",
       "    </tr>\n",
       "    <tr>\n",
       "      <th>1</th>\n",
       "      <td>Albania (AL)</td>\n",
       "      <td>Hydrological</td>\n",
       "      <td>343.0</td>\n",
       "      <td>0.0</td>\n",
       "      <td>343.0</td>\n",
       "      <td>1.0</td>\n",
       "    </tr>\n",
       "    <tr>\n",
       "      <th>2</th>\n",
       "      <td>Albania (AL)</td>\n",
       "      <td>Meteorological</td>\n",
       "      <td>10.0</td>\n",
       "      <td>0.0</td>\n",
       "      <td>10.0</td>\n",
       "      <td>1.0</td>\n",
       "    </tr>\n",
       "    <tr>\n",
       "      <th>3</th>\n",
       "      <td>Austria (AT)</td>\n",
       "      <td>Climatological (Other)</td>\n",
       "      <td>1472.0</td>\n",
       "      <td>624.0</td>\n",
       "      <td>848.0</td>\n",
       "      <td>0.576087</td>\n",
       "    </tr>\n",
       "    <tr>\n",
       "      <th>4</th>\n",
       "      <td>Austria (AT)</td>\n",
       "      <td>Climatological (heatwaves)</td>\n",
       "      <td>1673.0</td>\n",
       "      <td>14.0</td>\n",
       "      <td>1659.0</td>\n",
       "      <td>0.991632</td>\n",
       "    </tr>\n",
       "    <tr>\n",
       "      <th>5</th>\n",
       "      <td>Austria (AT)</td>\n",
       "      <td>Hydrological</td>\n",
       "      <td>7519.0</td>\n",
       "      <td>1049.0</td>\n",
       "      <td>6470.0</td>\n",
       "      <td>0.860487</td>\n",
       "    </tr>\n",
       "    <tr>\n",
       "      <th>6</th>\n",
       "      <td>Austria (AT)</td>\n",
       "      <td>Meteorological</td>\n",
       "      <td>4062.0</td>\n",
       "      <td>1100.0</td>\n",
       "      <td>2962.0</td>\n",
       "      <td>0.729197</td>\n",
       "    </tr>\n",
       "    <tr>\n",
       "      <th>7</th>\n",
       "      <td>Belgium (BE)</td>\n",
       "      <td>Climatological (heatwaves)</td>\n",
       "      <td>280.0</td>\n",
       "      <td>0.0</td>\n",
       "      <td>280.0</td>\n",
       "      <td>1.0</td>\n",
       "    </tr>\n",
       "    <tr>\n",
       "      <th>8</th>\n",
       "      <td>Belgium (BE)</td>\n",
       "      <td>Hydrological</td>\n",
       "      <td>11396.0</td>\n",
       "      <td>2825.0</td>\n",
       "      <td>8571.0</td>\n",
       "      <td>0.752106</td>\n",
       "    </tr>\n",
       "    <tr>\n",
       "      <th>9</th>\n",
       "      <td>Belgium (BE)</td>\n",
       "      <td>Meteorological</td>\n",
       "      <td>5312.0</td>\n",
       "      <td>3855.0</td>\n",
       "      <td>1457.0</td>\n",
       "      <td>0.274285</td>\n",
       "    </tr>\n",
       "    <tr>\n",
       "      <th>10</th>\n",
       "      <td>Bosnia and Herzegovina (BA)</td>\n",
       "      <td>Climatological (heatwaves)</td>\n",
       "      <td>2545.0</td>\n",
       "      <td>0.0</td>\n",
       "      <td>2545.0</td>\n",
       "      <td>1.0</td>\n",
       "    </tr>\n",
       "    <tr>\n",
       "      <th>11</th>\n",
       "      <td>Bosnia and Herzegovina (BA)</td>\n",
       "      <td>Hydrological</td>\n",
       "      <td>1019.0</td>\n",
       "      <td>0.0</td>\n",
       "      <td>1019.0</td>\n",
       "      <td>1.0</td>\n",
       "    </tr>\n",
       "    <tr>\n",
       "      <th>12</th>\n",
       "      <td>Bulgaria (BG)</td>\n",
       "      <td>Climatological (Other)</td>\n",
       "      <td>84.0</td>\n",
       "      <td>0.0</td>\n",
       "      <td>84.0</td>\n",
       "      <td>1.0</td>\n",
       "    </tr>\n",
       "    <tr>\n",
       "      <th>13</th>\n",
       "      <td>Bulgaria (BG)</td>\n",
       "      <td>Hydrological</td>\n",
       "      <td>4390.0</td>\n",
       "      <td>0.0</td>\n",
       "      <td>4390.0</td>\n",
       "      <td>1.0</td>\n",
       "    </tr>\n",
       "    <tr>\n",
       "      <th>14</th>\n",
       "      <td>Bulgaria (BG)</td>\n",
       "      <td>Meteorological</td>\n",
       "      <td>695.0</td>\n",
       "      <td>93.0</td>\n",
       "      <td>602.0</td>\n",
       "      <td>0.866187</td>\n",
       "    </tr>\n",
       "    <tr>\n",
       "      <th>15</th>\n",
       "      <td>Croatia (HR)</td>\n",
       "      <td>Climatological (Other)</td>\n",
       "      <td>68.0</td>\n",
       "      <td>0.0</td>\n",
       "      <td>68.0</td>\n",
       "      <td>1.0</td>\n",
       "    </tr>\n",
       "    <tr>\n",
       "      <th>16</th>\n",
       "      <td>Croatia (HR)</td>\n",
       "      <td>Climatological (heatwaves)</td>\n",
       "      <td>1811.0</td>\n",
       "      <td>0.0</td>\n",
       "      <td>1811.0</td>\n",
       "      <td>1.0</td>\n",
       "    </tr>\n",
       "    <tr>\n",
       "      <th>17</th>\n",
       "      <td>Croatia (HR)</td>\n",
       "      <td>Hydrological</td>\n",
       "      <td>1812.0</td>\n",
       "      <td>101.0</td>\n",
       "      <td>1711.0</td>\n",
       "      <td>0.94426</td>\n",
       "    </tr>\n",
       "    <tr>\n",
       "      <th>18</th>\n",
       "      <td>Croatia (HR)</td>\n",
       "      <td>Meteorological</td>\n",
       "      <td>463.0</td>\n",
       "      <td>0.0</td>\n",
       "      <td>463.0</td>\n",
       "      <td>1.0</td>\n",
       "    </tr>\n",
       "    <tr>\n",
       "      <th>19</th>\n",
       "      <td>Cyprus (CY)</td>\n",
       "      <td>Climatological (Other)</td>\n",
       "      <td>6.0</td>\n",
       "      <td>0.0</td>\n",
       "      <td>6.0</td>\n",
       "      <td>1.0</td>\n",
       "    </tr>\n",
       "  </tbody>\n",
       "</table>\n",
       "</div>"
      ],
      "text/plain": [
       "                        Country                      Hazard  \\\n",
       "0                  Albania (AL)      Climatological (Other)   \n",
       "1                  Albania (AL)                Hydrological   \n",
       "2                  Albania (AL)              Meteorological   \n",
       "3                  Austria (AT)      Climatological (Other)   \n",
       "4                  Austria (AT)  Climatological (heatwaves)   \n",
       "5                  Austria (AT)                Hydrological   \n",
       "6                  Austria (AT)              Meteorological   \n",
       "7                  Belgium (BE)  Climatological (heatwaves)   \n",
       "8                  Belgium (BE)                Hydrological   \n",
       "9                  Belgium (BE)              Meteorological   \n",
       "10  Bosnia and Herzegovina (BA)  Climatological (heatwaves)   \n",
       "11  Bosnia and Herzegovina (BA)                Hydrological   \n",
       "12                Bulgaria (BG)      Climatological (Other)   \n",
       "13                Bulgaria (BG)                Hydrological   \n",
       "14                Bulgaria (BG)              Meteorological   \n",
       "15                 Croatia (HR)      Climatological (Other)   \n",
       "16                 Croatia (HR)  Climatological (heatwaves)   \n",
       "17                 Croatia (HR)                Hydrological   \n",
       "18                 Croatia (HR)              Meteorological   \n",
       "19                  Cyprus (CY)      Climatological (Other)   \n",
       "\n",
       "    Total Loss in MEUR  Insured Loss in MEUR  Gap in MEUR   Gap (%)  \n",
       "0                 76.0                   0.0         76.0       1.0  \n",
       "1                343.0                   0.0        343.0       1.0  \n",
       "2                 10.0                   0.0         10.0       1.0  \n",
       "3               1472.0                 624.0        848.0  0.576087  \n",
       "4               1673.0                  14.0       1659.0  0.991632  \n",
       "5               7519.0                1049.0       6470.0  0.860487  \n",
       "6               4062.0                1100.0       2962.0  0.729197  \n",
       "7                280.0                   0.0        280.0       1.0  \n",
       "8              11396.0                2825.0       8571.0  0.752106  \n",
       "9               5312.0                3855.0       1457.0  0.274285  \n",
       "10              2545.0                   0.0       2545.0       1.0  \n",
       "11              1019.0                   0.0       1019.0       1.0  \n",
       "12                84.0                   0.0         84.0       1.0  \n",
       "13              4390.0                   0.0       4390.0       1.0  \n",
       "14               695.0                  93.0        602.0  0.866187  \n",
       "15                68.0                   0.0         68.0       1.0  \n",
       "16              1811.0                   0.0       1811.0       1.0  \n",
       "17              1812.0                 101.0       1711.0   0.94426  \n",
       "18               463.0                   0.0        463.0       1.0  \n",
       "19                 6.0                   0.0          6.0       1.0  "
      ]
     },
     "execution_count": 34,
     "metadata": {},
     "output_type": "execute_result"
    }
   ],
   "source": [
    "# Merge Total and Insured tidy df\n",
    "merged = pd.merge(\n",
    "    total_tidy,\n",
    "    insured_tidy,\n",
    "    on=['Country','Hazard'],  \n",
    "    how='outer'\n",
    ").fillna(0)\n",
    "# Calculate protection gap\n",
    "merged['Gap in MEUR'] = merged['Total Loss in MEUR'] - merged['Insured Loss in MEUR']\n",
    "nz = merged['Total Loss in MEUR'] > 0\n",
    "merged['Gap (%)'] = None\n",
    "merged.loc[nz, 'Gap (%)'] = 1 - (merged.loc[nz, 'Insured Loss in MEUR'] / merged.loc[nz, 'Total Loss in MEUR'])\n",
    "merged['Gap (%)'] = merged['Gap (%)'].clip(0, 1)\n",
    "# Only valid hazards\n",
    "valid_haz = {\n",
    "    'Hydrological',\n",
    "    'Meteorological',\n",
    "    'Climatological (heatwaves)',\n",
    "    'Climatological (Other)'\n",
    "}\n",
    "merged = merged[merged['Hazard'].isin(valid_haz)]\n",
    "# Keep only real countries (names with \"(XX)\")\n",
    "merged = merged[merged['Country'].astype(str).str.match(r'.+\\([A-Z]{2}\\)$')]\n",
    "\n",
    "# Remove rows with both Total and Insured = 0\n",
    "merged = merged[~((merged['Total Loss in MEUR'] == 0) & (merged['Insured Loss in MEUR'] == 0))]\n",
    "\n",
    "# Deduplicate and tidy strings\n",
    "merged = (merged\n",
    "          .drop_duplicates(subset=['Country','Hazard','Total Loss in MEUR','Insured Loss in MEUR'])\n",
    "          .assign(Country=lambda d: d['Country'].str.strip(),\n",
    "                  Hazard=lambda d: d['Hazard'].str.strip())\n",
    "          .sort_values(['Country','Hazard'])\n",
    "          .reset_index(drop=True))\n",
    "\n",
    "# Reorder columns\n",
    "cols = ['Country','Hazard','Total Loss in MEUR','Insured Loss in MEUR',\n",
    "        'Gap in MEUR','Gap (%)']\n",
    "merged = merged[cols]\n",
    "\n",
    "# Show preview\n",
    "merged.head(20)\n"
   ]
  },
  {
   "cell_type": "markdown",
   "metadata": {},
   "source": [
    "## creating csv for power bi"
   ]
  },
  {
   "cell_type": "code",
   "execution_count": 32,
   "metadata": {},
   "outputs": [
    {
     "ename": "OSError",
     "evalue": "Cannot save file into a non-existent directory: 'data'",
     "output_type": "error",
     "traceback": [
      "\u001b[1;31m---------------------------------------------------------------------------\u001b[0m",
      "\u001b[1;31mOSError\u001b[0m                                   Traceback (most recent call last)",
      "Cell \u001b[1;32mIn[32], line 4\u001b[0m\n\u001b[0;32m      1\u001b[0m \u001b[38;5;66;03m# Export to CSV for Power BI\u001b[39;00m\n\u001b[0;32m      2\u001b[0m \u001b[38;5;66;03m# DO NOT TOUCH\u001b[39;00m\n\u001b[0;32m      3\u001b[0m merged\u001b[38;5;241m.\u001b[39mto_csv(\u001b[38;5;124m\"\u001b[39m\u001b[38;5;124mClimate_Losses_Cleaned.csv\u001b[39m\u001b[38;5;124m\"\u001b[39m, index\u001b[38;5;241m=\u001b[39m\u001b[38;5;28;01mFalse\u001b[39;00m, encoding\u001b[38;5;241m=\u001b[39m\u001b[38;5;124m\"\u001b[39m\u001b[38;5;124mutf-8-sig\u001b[39m\u001b[38;5;124m\"\u001b[39m)\n\u001b[1;32m----> 4\u001b[0m merged\u001b[38;5;241m.\u001b[39mto_csv(\u001b[38;5;124m\"\u001b[39m\u001b[38;5;124m./data/Climate_Losses_Cleaned.csv\u001b[39m\u001b[38;5;124m\"\u001b[39m, index\u001b[38;5;241m=\u001b[39m\u001b[38;5;28;01mFalse\u001b[39;00m, encoding\u001b[38;5;241m=\u001b[39m\u001b[38;5;124m\"\u001b[39m\u001b[38;5;124mutf-8-sig\u001b[39m\u001b[38;5;124m\"\u001b[39m)\n",
      "File \u001b[1;32mc:\\ProgramData\\anaconda3\\Lib\\site-packages\\pandas\\util\\_decorators.py:333\u001b[0m, in \u001b[0;36mdeprecate_nonkeyword_arguments.<locals>.decorate.<locals>.wrapper\u001b[1;34m(*args, **kwargs)\u001b[0m\n\u001b[0;32m    327\u001b[0m \u001b[38;5;28;01mif\u001b[39;00m \u001b[38;5;28mlen\u001b[39m(args) \u001b[38;5;241m>\u001b[39m num_allow_args:\n\u001b[0;32m    328\u001b[0m     warnings\u001b[38;5;241m.\u001b[39mwarn(\n\u001b[0;32m    329\u001b[0m         msg\u001b[38;5;241m.\u001b[39mformat(arguments\u001b[38;5;241m=\u001b[39m_format_argument_list(allow_args)),\n\u001b[0;32m    330\u001b[0m         \u001b[38;5;167;01mFutureWarning\u001b[39;00m,\n\u001b[0;32m    331\u001b[0m         stacklevel\u001b[38;5;241m=\u001b[39mfind_stack_level(),\n\u001b[0;32m    332\u001b[0m     )\n\u001b[1;32m--> 333\u001b[0m \u001b[38;5;28;01mreturn\u001b[39;00m func(\u001b[38;5;241m*\u001b[39margs, \u001b[38;5;241m*\u001b[39m\u001b[38;5;241m*\u001b[39mkwargs)\n",
      "File \u001b[1;32mc:\\ProgramData\\anaconda3\\Lib\\site-packages\\pandas\\core\\generic.py:3967\u001b[0m, in \u001b[0;36mNDFrame.to_csv\u001b[1;34m(self, path_or_buf, sep, na_rep, float_format, columns, header, index, index_label, mode, encoding, compression, quoting, quotechar, lineterminator, chunksize, date_format, doublequote, escapechar, decimal, errors, storage_options)\u001b[0m\n\u001b[0;32m   3956\u001b[0m df \u001b[38;5;241m=\u001b[39m \u001b[38;5;28mself\u001b[39m \u001b[38;5;28;01mif\u001b[39;00m \u001b[38;5;28misinstance\u001b[39m(\u001b[38;5;28mself\u001b[39m, ABCDataFrame) \u001b[38;5;28;01melse\u001b[39;00m \u001b[38;5;28mself\u001b[39m\u001b[38;5;241m.\u001b[39mto_frame()\n\u001b[0;32m   3958\u001b[0m formatter \u001b[38;5;241m=\u001b[39m DataFrameFormatter(\n\u001b[0;32m   3959\u001b[0m     frame\u001b[38;5;241m=\u001b[39mdf,\n\u001b[0;32m   3960\u001b[0m     header\u001b[38;5;241m=\u001b[39mheader,\n\u001b[1;32m   (...)\u001b[0m\n\u001b[0;32m   3964\u001b[0m     decimal\u001b[38;5;241m=\u001b[39mdecimal,\n\u001b[0;32m   3965\u001b[0m )\n\u001b[1;32m-> 3967\u001b[0m \u001b[38;5;28;01mreturn\u001b[39;00m DataFrameRenderer(formatter)\u001b[38;5;241m.\u001b[39mto_csv(\n\u001b[0;32m   3968\u001b[0m     path_or_buf,\n\u001b[0;32m   3969\u001b[0m     lineterminator\u001b[38;5;241m=\u001b[39mlineterminator,\n\u001b[0;32m   3970\u001b[0m     sep\u001b[38;5;241m=\u001b[39msep,\n\u001b[0;32m   3971\u001b[0m     encoding\u001b[38;5;241m=\u001b[39mencoding,\n\u001b[0;32m   3972\u001b[0m     errors\u001b[38;5;241m=\u001b[39merrors,\n\u001b[0;32m   3973\u001b[0m     compression\u001b[38;5;241m=\u001b[39mcompression,\n\u001b[0;32m   3974\u001b[0m     quoting\u001b[38;5;241m=\u001b[39mquoting,\n\u001b[0;32m   3975\u001b[0m     columns\u001b[38;5;241m=\u001b[39mcolumns,\n\u001b[0;32m   3976\u001b[0m     index_label\u001b[38;5;241m=\u001b[39mindex_label,\n\u001b[0;32m   3977\u001b[0m     mode\u001b[38;5;241m=\u001b[39mmode,\n\u001b[0;32m   3978\u001b[0m     chunksize\u001b[38;5;241m=\u001b[39mchunksize,\n\u001b[0;32m   3979\u001b[0m     quotechar\u001b[38;5;241m=\u001b[39mquotechar,\n\u001b[0;32m   3980\u001b[0m     date_format\u001b[38;5;241m=\u001b[39mdate_format,\n\u001b[0;32m   3981\u001b[0m     doublequote\u001b[38;5;241m=\u001b[39mdoublequote,\n\u001b[0;32m   3982\u001b[0m     escapechar\u001b[38;5;241m=\u001b[39mescapechar,\n\u001b[0;32m   3983\u001b[0m     storage_options\u001b[38;5;241m=\u001b[39mstorage_options,\n\u001b[0;32m   3984\u001b[0m )\n",
      "File \u001b[1;32mc:\\ProgramData\\anaconda3\\Lib\\site-packages\\pandas\\io\\formats\\format.py:1014\u001b[0m, in \u001b[0;36mDataFrameRenderer.to_csv\u001b[1;34m(self, path_or_buf, encoding, sep, columns, index_label, mode, compression, quoting, quotechar, lineterminator, chunksize, date_format, doublequote, escapechar, errors, storage_options)\u001b[0m\n\u001b[0;32m    993\u001b[0m     created_buffer \u001b[38;5;241m=\u001b[39m \u001b[38;5;28;01mFalse\u001b[39;00m\n\u001b[0;32m    995\u001b[0m csv_formatter \u001b[38;5;241m=\u001b[39m CSVFormatter(\n\u001b[0;32m    996\u001b[0m     path_or_buf\u001b[38;5;241m=\u001b[39mpath_or_buf,\n\u001b[0;32m    997\u001b[0m     lineterminator\u001b[38;5;241m=\u001b[39mlineterminator,\n\u001b[1;32m   (...)\u001b[0m\n\u001b[0;32m   1012\u001b[0m     formatter\u001b[38;5;241m=\u001b[39m\u001b[38;5;28mself\u001b[39m\u001b[38;5;241m.\u001b[39mfmt,\n\u001b[0;32m   1013\u001b[0m )\n\u001b[1;32m-> 1014\u001b[0m csv_formatter\u001b[38;5;241m.\u001b[39msave()\n\u001b[0;32m   1016\u001b[0m \u001b[38;5;28;01mif\u001b[39;00m created_buffer:\n\u001b[0;32m   1017\u001b[0m     \u001b[38;5;28;01massert\u001b[39;00m \u001b[38;5;28misinstance\u001b[39m(path_or_buf, StringIO)\n",
      "File \u001b[1;32mc:\\ProgramData\\anaconda3\\Lib\\site-packages\\pandas\\io\\formats\\csvs.py:251\u001b[0m, in \u001b[0;36mCSVFormatter.save\u001b[1;34m(self)\u001b[0m\n\u001b[0;32m    247\u001b[0m \u001b[38;5;250m\u001b[39m\u001b[38;5;124;03m\"\"\"\u001b[39;00m\n\u001b[0;32m    248\u001b[0m \u001b[38;5;124;03mCreate the writer & save.\u001b[39;00m\n\u001b[0;32m    249\u001b[0m \u001b[38;5;124;03m\"\"\"\u001b[39;00m\n\u001b[0;32m    250\u001b[0m \u001b[38;5;66;03m# apply compression and byte/text conversion\u001b[39;00m\n\u001b[1;32m--> 251\u001b[0m \u001b[38;5;28;01mwith\u001b[39;00m get_handle(\n\u001b[0;32m    252\u001b[0m     \u001b[38;5;28mself\u001b[39m\u001b[38;5;241m.\u001b[39mfilepath_or_buffer,\n\u001b[0;32m    253\u001b[0m     \u001b[38;5;28mself\u001b[39m\u001b[38;5;241m.\u001b[39mmode,\n\u001b[0;32m    254\u001b[0m     encoding\u001b[38;5;241m=\u001b[39m\u001b[38;5;28mself\u001b[39m\u001b[38;5;241m.\u001b[39mencoding,\n\u001b[0;32m    255\u001b[0m     errors\u001b[38;5;241m=\u001b[39m\u001b[38;5;28mself\u001b[39m\u001b[38;5;241m.\u001b[39merrors,\n\u001b[0;32m    256\u001b[0m     compression\u001b[38;5;241m=\u001b[39m\u001b[38;5;28mself\u001b[39m\u001b[38;5;241m.\u001b[39mcompression,\n\u001b[0;32m    257\u001b[0m     storage_options\u001b[38;5;241m=\u001b[39m\u001b[38;5;28mself\u001b[39m\u001b[38;5;241m.\u001b[39mstorage_options,\n\u001b[0;32m    258\u001b[0m ) \u001b[38;5;28;01mas\u001b[39;00m handles:\n\u001b[0;32m    259\u001b[0m     \u001b[38;5;66;03m# Note: self.encoding is irrelevant here\u001b[39;00m\n\u001b[0;32m    260\u001b[0m     \u001b[38;5;28mself\u001b[39m\u001b[38;5;241m.\u001b[39mwriter \u001b[38;5;241m=\u001b[39m csvlib\u001b[38;5;241m.\u001b[39mwriter(\n\u001b[0;32m    261\u001b[0m         handles\u001b[38;5;241m.\u001b[39mhandle,\n\u001b[0;32m    262\u001b[0m         lineterminator\u001b[38;5;241m=\u001b[39m\u001b[38;5;28mself\u001b[39m\u001b[38;5;241m.\u001b[39mlineterminator,\n\u001b[1;32m   (...)\u001b[0m\n\u001b[0;32m    267\u001b[0m         quotechar\u001b[38;5;241m=\u001b[39m\u001b[38;5;28mself\u001b[39m\u001b[38;5;241m.\u001b[39mquotechar,\n\u001b[0;32m    268\u001b[0m     )\n\u001b[0;32m    270\u001b[0m     \u001b[38;5;28mself\u001b[39m\u001b[38;5;241m.\u001b[39m_save()\n",
      "File \u001b[1;32mc:\\ProgramData\\anaconda3\\Lib\\site-packages\\pandas\\io\\common.py:749\u001b[0m, in \u001b[0;36mget_handle\u001b[1;34m(path_or_buf, mode, encoding, compression, memory_map, is_text, errors, storage_options)\u001b[0m\n\u001b[0;32m    747\u001b[0m \u001b[38;5;66;03m# Only for write methods\u001b[39;00m\n\u001b[0;32m    748\u001b[0m \u001b[38;5;28;01mif\u001b[39;00m \u001b[38;5;124m\"\u001b[39m\u001b[38;5;124mr\u001b[39m\u001b[38;5;124m\"\u001b[39m \u001b[38;5;129;01mnot\u001b[39;00m \u001b[38;5;129;01min\u001b[39;00m mode \u001b[38;5;129;01mand\u001b[39;00m is_path:\n\u001b[1;32m--> 749\u001b[0m     check_parent_directory(\u001b[38;5;28mstr\u001b[39m(handle))\n\u001b[0;32m    751\u001b[0m \u001b[38;5;28;01mif\u001b[39;00m compression:\n\u001b[0;32m    752\u001b[0m     \u001b[38;5;28;01mif\u001b[39;00m compression \u001b[38;5;241m!=\u001b[39m \u001b[38;5;124m\"\u001b[39m\u001b[38;5;124mzstd\u001b[39m\u001b[38;5;124m\"\u001b[39m:\n\u001b[0;32m    753\u001b[0m         \u001b[38;5;66;03m# compression libraries do not like an explicit text-mode\u001b[39;00m\n",
      "File \u001b[1;32mc:\\ProgramData\\anaconda3\\Lib\\site-packages\\pandas\\io\\common.py:616\u001b[0m, in \u001b[0;36mcheck_parent_directory\u001b[1;34m(path)\u001b[0m\n\u001b[0;32m    614\u001b[0m parent \u001b[38;5;241m=\u001b[39m Path(path)\u001b[38;5;241m.\u001b[39mparent\n\u001b[0;32m    615\u001b[0m \u001b[38;5;28;01mif\u001b[39;00m \u001b[38;5;129;01mnot\u001b[39;00m parent\u001b[38;5;241m.\u001b[39mis_dir():\n\u001b[1;32m--> 616\u001b[0m     \u001b[38;5;28;01mraise\u001b[39;00m \u001b[38;5;167;01mOSError\u001b[39;00m(\u001b[38;5;124mrf\u001b[39m\u001b[38;5;124m\"\u001b[39m\u001b[38;5;124mCannot save file into a non-existent directory: \u001b[39m\u001b[38;5;124m'\u001b[39m\u001b[38;5;132;01m{\u001b[39;00mparent\u001b[38;5;132;01m}\u001b[39;00m\u001b[38;5;124m'\u001b[39m\u001b[38;5;124m\"\u001b[39m)\n",
      "\u001b[1;31mOSError\u001b[0m: Cannot save file into a non-existent directory: 'data'"
     ]
    }
   ],
   "source": [
    "# Export to CSV for Power BI\n",
    "# DO NOT TOUCH\n",
    "merged.to_csv(\"Climate_Losses_Cleaned.csv\", index=False, encoding=\"utf-8-sig\")\n",
    "merged.to_csv(\"./data/Climate_Losses_Cleaned.csv\", index=False, encoding=\"utf-8-sig\")\n"
   ]
  },
  {
   "cell_type": "code",
   "execution_count": 35,
   "metadata": {},
   "outputs": [
    {
     "data": {
      "application/vnd.plotly.v1+json": {
       "config": {
        "plotlyServerURL": "https://plot.ly"
       },
       "data": [
        {
         "colorscale": [
          [
           0,
           "#636efa"
          ],
          [
           1,
           "#636efa"
          ]
         ],
         "customdata": [
          [
           76,
           0,
           76
          ],
          [
           343,
           0,
           343
          ],
          [
           10,
           0,
           10
          ],
          [
           280,
           0,
           280
          ],
          [
           2545,
           0,
           2545
          ],
          [
           1019,
           0,
           1019
          ],
          [
           84,
           0,
           84
          ],
          [
           4390,
           0,
           4390
          ],
          [
           68,
           0,
           68
          ],
          [
           1811,
           0,
           1811
          ],
          [
           463,
           0,
           463
          ],
          [
           6,
           0,
           6
          ],
          [
           394,
           0,
           394
          ],
          [
           807,
           0,
           807
          ],
          [
           1076,
           0,
           1076
          ],
          [
           19,
           0,
           19
          ],
          [
           1,
           0,
           1
          ],
          [
           1339,
           0,
           1339
          ],
          [
           482,
           0,
           482
          ],
          [
           1744,
           0,
           1744
          ],
          [
           1,
           0,
           1
          ],
          [
           22,
           0,
           22
          ],
          [
           3,
           0,
           3
          ],
          [
           19,
           0,
           19
          ],
          [
           120,
           0,
           120
          ],
          [
           10,
           0,
           10
          ],
          [
           1097,
           0,
           1097
          ],
          [
           584,
           0,
           584
          ],
          [
           22,
           0,
           22
          ],
          [
           13,
           0,
           13
          ],
          [
           12,
           0,
           12
          ],
          [
           1,
           0,
           1
          ],
          [
           59,
           0,
           59
          ],
          [
           444,
           0,
           444
          ],
          [
           1,
           0,
           1
          ],
          [
           2,
           0,
           2
          ],
          [
           1323,
           0,
           1323
          ],
          [
           7852,
           0,
           7852
          ],
          [
           74,
           0,
           74
          ],
          [
           501,
           0,
           501
          ],
          [
           9568,
           0,
           9568
          ],
          [
           4202,
           0,
           4202
          ],
          [
           15,
           0,
           15
          ],
          [
           368,
           0,
           368
          ],
          [
           194,
           0,
           194
          ],
          [
           1720,
           0,
           1720
          ],
          [
           427,
           0,
           427
          ],
          [
           262,
           0,
           262
          ],
          [
           1,
           0,
           1
          ]
         ],
         "geo": "geo",
         "hovertemplate": "<b>%{hovertext}</b><br><br>Gap (%)=1.0<br>Country=%{location}<br>Total Loss in MEUR=%{customdata[0]}<br>Insured Loss in MEUR=%{customdata[1]}<br>Gap in MEUR=%{customdata[2]}<extra></extra>",
         "hovertext": [
          "Albania (AL)",
          "Albania (AL)",
          "Albania (AL)",
          "Belgium (BE)",
          "Bosnia and Herzegovina (BA)",
          "Bosnia and Herzegovina (BA)",
          "Bulgaria (BG)",
          "Bulgaria (BG)",
          "Croatia (HR)",
          "Croatia (HR)",
          "Croatia (HR)",
          "Cyprus (CY)",
          "Cyprus (CY)",
          "Czechia (CZ)",
          "Denmark (DK)",
          "Estonia (EE)",
          "Estonia (EE)",
          "Finland (FI)",
          "Finland (FI)",
          "Greece (EL)",
          "Hungary (HU)",
          "Iceland (IS)",
          "Iceland (IS)",
          "Kosovo* (XK)",
          "Latvia (LV)",
          "Liechtenstein (LI)",
          "Lithuania (LT)",
          "Lithuania (LT)",
          "Malta (MT)",
          "Montenegro (ME)",
          "Montenegro (ME)",
          "Netherlands (NL)",
          "North Macedonia (MK)",
          "North Macedonia (MK)",
          "Norway (NO)",
          "Poland (PL)",
          "Poland (PL)",
          "Romania (RO)",
          "Romania (RO)",
          "Serbia (RS)",
          "Serbia (RS)",
          "Serbia (RS)",
          "Serbia (RS)",
          "Slovakia (SK)",
          "Slovenia (SI)",
          "Slovenia (SI)",
          "Switzerland (CH)",
          "Türkiye (TR)",
          "Türkiye (TR)"
         ],
         "locationmode": "country names",
         "locations": [
          "Albania (AL)",
          "Albania (AL)",
          "Albania (AL)",
          "Belgium (BE)",
          "Bosnia and Herzegovina (BA)",
          "Bosnia and Herzegovina (BA)",
          "Bulgaria (BG)",
          "Bulgaria (BG)",
          "Croatia (HR)",
          "Croatia (HR)",
          "Croatia (HR)",
          "Cyprus (CY)",
          "Cyprus (CY)",
          "Czechia (CZ)",
          "Denmark (DK)",
          "Estonia (EE)",
          "Estonia (EE)",
          "Finland (FI)",
          "Finland (FI)",
          "Greece (EL)",
          "Hungary (HU)",
          "Iceland (IS)",
          "Iceland (IS)",
          "Kosovo* (XK)",
          "Latvia (LV)",
          "Liechtenstein (LI)",
          "Lithuania (LT)",
          "Lithuania (LT)",
          "Malta (MT)",
          "Montenegro (ME)",
          "Montenegro (ME)",
          "Netherlands (NL)",
          "North Macedonia (MK)",
          "North Macedonia (MK)",
          "Norway (NO)",
          "Poland (PL)",
          "Poland (PL)",
          "Romania (RO)",
          "Romania (RO)",
          "Serbia (RS)",
          "Serbia (RS)",
          "Serbia (RS)",
          "Serbia (RS)",
          "Slovakia (SK)",
          "Slovenia (SI)",
          "Slovenia (SI)",
          "Switzerland (CH)",
          "Türkiye (TR)",
          "Türkiye (TR)"
         ],
         "name": "1.0",
         "showlegend": true,
         "showscale": false,
         "type": "choropleth",
         "z": [
          1,
          1,
          1,
          1,
          1,
          1,
          1,
          1,
          1,
          1,
          1,
          1,
          1,
          1,
          1,
          1,
          1,
          1,
          1,
          1,
          1,
          1,
          1,
          1,
          1,
          1,
          1,
          1,
          1,
          1,
          1,
          1,
          1,
          1,
          1,
          1,
          1,
          1,
          1,
          1,
          1,
          1,
          1,
          1,
          1,
          1,
          1,
          1,
          1
         ]
        },
        {
         "colorscale": [
          [
           0,
           "#EF553B"
          ],
          [
           1,
           "#EF553B"
          ]
         ],
         "customdata": [
          [
           1472,
           624,
           848
          ]
         ],
         "geo": "geo",
         "hovertemplate": "<b>%{hovertext}</b><br><br>Gap (%)=0.5760869565217391<br>Country=%{location}<br>Total Loss in MEUR=%{customdata[0]}<br>Insured Loss in MEUR=%{customdata[1]}<br>Gap in MEUR=%{customdata[2]}<extra></extra>",
         "hovertext": [
          "Austria (AT)"
         ],
         "locationmode": "country names",
         "locations": [
          "Austria (AT)"
         ],
         "name": "0.5760869565217391",
         "showlegend": true,
         "showscale": false,
         "type": "choropleth",
         "z": [
          1
         ]
        },
        {
         "colorscale": [
          [
           0,
           "#00cc96"
          ],
          [
           1,
           "#00cc96"
          ]
         ],
         "customdata": [
          [
           1673,
           14,
           1659
          ]
         ],
         "geo": "geo",
         "hovertemplate": "<b>%{hovertext}</b><br><br>Gap (%)=0.9916317991631799<br>Country=%{location}<br>Total Loss in MEUR=%{customdata[0]}<br>Insured Loss in MEUR=%{customdata[1]}<br>Gap in MEUR=%{customdata[2]}<extra></extra>",
         "hovertext": [
          "Austria (AT)"
         ],
         "locationmode": "country names",
         "locations": [
          "Austria (AT)"
         ],
         "name": "0.9916317991631799",
         "showlegend": true,
         "showscale": false,
         "type": "choropleth",
         "z": [
          1
         ]
        },
        {
         "colorscale": [
          [
           0,
           "#ab63fa"
          ],
          [
           1,
           "#ab63fa"
          ]
         ],
         "customdata": [
          [
           7519,
           1049,
           6470
          ]
         ],
         "geo": "geo",
         "hovertemplate": "<b>%{hovertext}</b><br><br>Gap (%)=0.8604867668572949<br>Country=%{location}<br>Total Loss in MEUR=%{customdata[0]}<br>Insured Loss in MEUR=%{customdata[1]}<br>Gap in MEUR=%{customdata[2]}<extra></extra>",
         "hovertext": [
          "Austria (AT)"
         ],
         "locationmode": "country names",
         "locations": [
          "Austria (AT)"
         ],
         "name": "0.8604867668572949",
         "showlegend": true,
         "showscale": false,
         "type": "choropleth",
         "z": [
          1
         ]
        },
        {
         "colorscale": [
          [
           0,
           "#FFA15A"
          ],
          [
           1,
           "#FFA15A"
          ]
         ],
         "customdata": [
          [
           4062,
           1100,
           2962
          ]
         ],
         "geo": "geo",
         "hovertemplate": "<b>%{hovertext}</b><br><br>Gap (%)=0.7291974396848844<br>Country=%{location}<br>Total Loss in MEUR=%{customdata[0]}<br>Insured Loss in MEUR=%{customdata[1]}<br>Gap in MEUR=%{customdata[2]}<extra></extra>",
         "hovertext": [
          "Austria (AT)"
         ],
         "locationmode": "country names",
         "locations": [
          "Austria (AT)"
         ],
         "name": "0.7291974396848844",
         "showlegend": true,
         "showscale": false,
         "type": "choropleth",
         "z": [
          1
         ]
        },
        {
         "colorscale": [
          [
           0,
           "#19d3f3"
          ],
          [
           1,
           "#19d3f3"
          ]
         ],
         "customdata": [
          [
           11396,
           2825,
           8571
          ]
         ],
         "geo": "geo",
         "hovertemplate": "<b>%{hovertext}</b><br><br>Gap (%)=0.7521060021060021<br>Country=%{location}<br>Total Loss in MEUR=%{customdata[0]}<br>Insured Loss in MEUR=%{customdata[1]}<br>Gap in MEUR=%{customdata[2]}<extra></extra>",
         "hovertext": [
          "Belgium (BE)"
         ],
         "locationmode": "country names",
         "locations": [
          "Belgium (BE)"
         ],
         "name": "0.7521060021060021",
         "showlegend": true,
         "showscale": false,
         "type": "choropleth",
         "z": [
          1
         ]
        },
        {
         "colorscale": [
          [
           0,
           "#FF6692"
          ],
          [
           1,
           "#FF6692"
          ]
         ],
         "customdata": [
          [
           5312,
           3855,
           1457
          ]
         ],
         "geo": "geo",
         "hovertemplate": "<b>%{hovertext}</b><br><br>Gap (%)=0.2742846385542169<br>Country=%{location}<br>Total Loss in MEUR=%{customdata[0]}<br>Insured Loss in MEUR=%{customdata[1]}<br>Gap in MEUR=%{customdata[2]}<extra></extra>",
         "hovertext": [
          "Belgium (BE)"
         ],
         "locationmode": "country names",
         "locations": [
          "Belgium (BE)"
         ],
         "name": "0.2742846385542169",
         "showlegend": true,
         "showscale": false,
         "type": "choropleth",
         "z": [
          1
         ]
        },
        {
         "colorscale": [
          [
           0,
           "#B6E880"
          ],
          [
           1,
           "#B6E880"
          ]
         ],
         "customdata": [
          [
           695,
           93,
           602
          ]
         ],
         "geo": "geo",
         "hovertemplate": "<b>%{hovertext}</b><br><br>Gap (%)=0.8661870503597122<br>Country=%{location}<br>Total Loss in MEUR=%{customdata[0]}<br>Insured Loss in MEUR=%{customdata[1]}<br>Gap in MEUR=%{customdata[2]}<extra></extra>",
         "hovertext": [
          "Bulgaria (BG)"
         ],
         "locationmode": "country names",
         "locations": [
          "Bulgaria (BG)"
         ],
         "name": "0.8661870503597122",
         "showlegend": true,
         "showscale": false,
         "type": "choropleth",
         "z": [
          1
         ]
        },
        {
         "colorscale": [
          [
           0,
           "#FF97FF"
          ],
          [
           1,
           "#FF97FF"
          ]
         ],
         "customdata": [
          [
           1812,
           101,
           1711
          ]
         ],
         "geo": "geo",
         "hovertemplate": "<b>%{hovertext}</b><br><br>Gap (%)=0.9442604856512141<br>Country=%{location}<br>Total Loss in MEUR=%{customdata[0]}<br>Insured Loss in MEUR=%{customdata[1]}<br>Gap in MEUR=%{customdata[2]}<extra></extra>",
         "hovertext": [
          "Croatia (HR)"
         ],
         "locationmode": "country names",
         "locations": [
          "Croatia (HR)"
         ],
         "name": "0.9442604856512141",
         "showlegend": true,
         "showscale": false,
         "type": "choropleth",
         "z": [
          1
         ]
        },
        {
         "colorscale": [
          [
           0,
           "#FECB52"
          ],
          [
           1,
           "#FECB52"
          ]
         ],
         "customdata": [
          [
           40,
           8,
           32
          ]
         ],
         "geo": "geo",
         "hovertemplate": "<b>%{hovertext}</b><br><br>Gap (%)=0.8<br>Country=%{location}<br>Total Loss in MEUR=%{customdata[0]}<br>Insured Loss in MEUR=%{customdata[1]}<br>Gap in MEUR=%{customdata[2]}<extra></extra>",
         "hovertext": [
          "Cyprus (CY)"
         ],
         "locationmode": "country names",
         "locations": [
          "Cyprus (CY)"
         ],
         "name": "0.8",
         "showlegend": true,
         "showscale": false,
         "type": "choropleth",
         "z": [
          1
         ]
        },
        {
         "colorscale": [
          [
           0,
           "#636efa"
          ],
          [
           1,
           "#636efa"
          ]
         ],
         "customdata": [
          [
           354,
           241,
           113
          ]
         ],
         "geo": "geo",
         "hovertemplate": "<b>%{hovertext}</b><br><br>Gap (%)=0.3192090395480226<br>Country=%{location}<br>Total Loss in MEUR=%{customdata[0]}<br>Insured Loss in MEUR=%{customdata[1]}<br>Gap in MEUR=%{customdata[2]}<extra></extra>",
         "hovertext": [
          "Czechia (CZ)"
         ],
         "locationmode": "country names",
         "locations": [
          "Czechia (CZ)"
         ],
         "name": "0.3192090395480226",
         "showlegend": true,
         "showscale": false,
         "type": "choropleth",
         "z": [
          1
         ]
        },
        {
         "colorscale": [
          [
           0,
           "#EF553B"
          ],
          [
           1,
           "#EF553B"
          ]
         ],
         "customdata": [
          [
           14483,
           1236,
           13247
          ]
         ],
         "geo": "geo",
         "hovertemplate": "<b>%{hovertext}</b><br><br>Gap (%)=0.9146585652143893<br>Country=%{location}<br>Total Loss in MEUR=%{customdata[0]}<br>Insured Loss in MEUR=%{customdata[1]}<br>Gap in MEUR=%{customdata[2]}<extra></extra>",
         "hovertext": [
          "Czechia (CZ)"
         ],
         "locationmode": "country names",
         "locations": [
          "Czechia (CZ)"
         ],
         "name": "0.9146585652143893",
         "showlegend": true,
         "showscale": false,
         "type": "choropleth",
         "z": [
          1
         ]
        },
        {
         "colorscale": [
          [
           0,
           "#00cc96"
          ],
          [
           1,
           "#00cc96"
          ]
         ],
         "customdata": [
          [
           2889,
           691,
           2198
          ]
         ],
         "geo": "geo",
         "hovertemplate": "<b>%{hovertext}</b><br><br>Gap (%)=0.7608168916580131<br>Country=%{location}<br>Total Loss in MEUR=%{customdata[0]}<br>Insured Loss in MEUR=%{customdata[1]}<br>Gap in MEUR=%{customdata[2]}<extra></extra>",
         "hovertext": [
          "Czechia (CZ)"
         ],
         "locationmode": "country names",
         "locations": [
          "Czechia (CZ)"
         ],
         "name": "0.7608168916580131",
         "showlegend": true,
         "showscale": false,
         "type": "choropleth",
         "z": [
          1
         ]
        },
        {
         "colorscale": [
          [
           0,
           "#ab63fa"
          ],
          [
           1,
           "#ab63fa"
          ]
         ],
         "customdata": [
          [
           1781,
           1299,
           482
          ]
         ],
         "geo": "geo",
         "hovertemplate": "<b>%{hovertext}</b><br><br>Gap (%)=0.27063447501403703<br>Country=%{location}<br>Total Loss in MEUR=%{customdata[0]}<br>Insured Loss in MEUR=%{customdata[1]}<br>Gap in MEUR=%{customdata[2]}<extra></extra>",
         "hovertext": [
          "Denmark (DK)"
         ],
         "locationmode": "country names",
         "locations": [
          "Denmark (DK)"
         ],
         "name": "0.27063447501403703",
         "showlegend": true,
         "showscale": false,
         "type": "choropleth",
         "z": [
          1
         ]
        },
        {
         "colorscale": [
          [
           0,
           "#FFA15A"
          ],
          [
           1,
           "#FFA15A"
          ]
         ],
         "customdata": [
          [
           5893,
           4144,
           1749
          ]
         ],
         "geo": "geo",
         "hovertemplate": "<b>%{hovertext}</b><br><br>Gap (%)=0.2967928050229085<br>Country=%{location}<br>Total Loss in MEUR=%{customdata[0]}<br>Insured Loss in MEUR=%{customdata[1]}<br>Gap in MEUR=%{customdata[2]}<extra></extra>",
         "hovertext": [
          "Denmark (DK)"
         ],
         "locationmode": "country names",
         "locations": [
          "Denmark (DK)"
         ],
         "name": "0.2967928050229085",
         "showlegend": true,
         "showscale": false,
         "type": "choropleth",
         "z": [
          1
         ]
        },
        {
         "colorscale": [
          [
           0,
           "#19d3f3"
          ],
          [
           1,
           "#19d3f3"
          ]
         ],
         "customdata": [
          [
           313,
           51,
           262
          ]
         ],
         "geo": "geo",
         "hovertemplate": "<b>%{hovertext}</b><br><br>Gap (%)=0.8370607028753994<br>Country=%{location}<br>Total Loss in MEUR=%{customdata[0]}<br>Insured Loss in MEUR=%{customdata[1]}<br>Gap in MEUR=%{customdata[2]}<extra></extra>",
         "hovertext": [
          "Estonia (EE)"
         ],
         "locationmode": "country names",
         "locations": [
          "Estonia (EE)"
         ],
         "name": "0.8370607028753994",
         "showlegend": true,
         "showscale": false,
         "type": "choropleth",
         "z": [
          1
         ]
        },
        {
         "colorscale": [
          [
           0,
           "#FF6692"
          ],
          [
           1,
           "#FF6692"
          ]
         ],
         "customdata": [
          [
           559,
           73,
           486
          ]
         ],
         "geo": "geo",
         "hovertemplate": "<b>%{hovertext}</b><br><br>Gap (%)=0.8694096601073346<br>Country=%{location}<br>Total Loss in MEUR=%{customdata[0]}<br>Insured Loss in MEUR=%{customdata[1]}<br>Gap in MEUR=%{customdata[2]}<extra></extra>",
         "hovertext": [
          "Finland (FI)"
         ],
         "locationmode": "country names",
         "locations": [
          "Finland (FI)"
         ],
         "name": "0.8694096601073346",
         "showlegend": true,
         "showscale": false,
         "type": "choropleth",
         "z": [
          1
         ]
        },
        {
         "colorscale": [
          [
           0,
           "#B6E880"
          ],
          [
           1,
           "#B6E880"
          ]
         ],
         "customdata": [
          [
           15308,
           2393,
           12915
          ]
         ],
         "geo": "geo",
         "hovertemplate": "<b>%{hovertext}</b><br><br>Gap (%)=0.8436765090148941<br>Country=%{location}<br>Total Loss in MEUR=%{customdata[0]}<br>Insured Loss in MEUR=%{customdata[1]}<br>Gap in MEUR=%{customdata[2]}<extra></extra>",
         "hovertext": [
          "France (FR)"
         ],
         "locationmode": "country names",
         "locations": [
          "France (FR)"
         ],
         "name": "0.8436765090148941",
         "showlegend": true,
         "showscale": false,
         "type": "choropleth",
         "z": [
          1
         ]
        },
        {
         "colorscale": [
          [
           0,
           "#FF97FF"
          ],
          [
           1,
           "#FF97FF"
          ]
         ],
         "customdata": [
          [
           23254,
           11718,
           11536
          ]
         ],
         "geo": "geo",
         "hovertemplate": "<b>%{hovertext}</b><br><br>Gap (%)=0.49608669476219147<br>Country=%{location}<br>Total Loss in MEUR=%{customdata[0]}<br>Insured Loss in MEUR=%{customdata[1]}<br>Gap in MEUR=%{customdata[2]}<extra></extra>",
         "hovertext": [
          "France (FR)"
         ],
         "locationmode": "country names",
         "locations": [
          "France (FR)"
         ],
         "name": "0.49608669476219147",
         "showlegend": true,
         "showscale": false,
         "type": "choropleth",
         "z": [
          1
         ]
        },
        {
         "colorscale": [
          [
           0,
           "#FECB52"
          ],
          [
           1,
           "#FECB52"
          ]
         ],
         "customdata": [
          [
           39759,
           11334,
           28425
          ]
         ],
         "geo": "geo",
         "hovertemplate": "<b>%{hovertext}</b><br><br>Gap (%)=0.7149324681204255<br>Country=%{location}<br>Total Loss in MEUR=%{customdata[0]}<br>Insured Loss in MEUR=%{customdata[1]}<br>Gap in MEUR=%{customdata[2]}<extra></extra>",
         "hovertext": [
          "France (FR)"
         ],
         "locationmode": "country names",
         "locations": [
          "France (FR)"
         ],
         "name": "0.7149324681204255",
         "showlegend": true,
         "showscale": false,
         "type": "choropleth",
         "z": [
          1
         ]
        },
        {
         "colorscale": [
          [
           0,
           "#636efa"
          ],
          [
           1,
           "#636efa"
          ]
         ],
         "customdata": [
          [
           51576,
           20608,
           30968
          ]
         ],
         "geo": "geo",
         "hovertemplate": "<b>%{hovertext}</b><br><br>Gap (%)=0.6004343105320304<br>Country=%{location}<br>Total Loss in MEUR=%{customdata[0]}<br>Insured Loss in MEUR=%{customdata[1]}<br>Gap in MEUR=%{customdata[2]}<extra></extra>",
         "hovertext": [
          "France (FR)"
         ],
         "locationmode": "country names",
         "locations": [
          "France (FR)"
         ],
         "name": "0.6004343105320304",
         "showlegend": true,
         "showscale": false,
         "type": "choropleth",
         "z": [
          1
         ]
        },
        {
         "colorscale": [
          [
           0,
           "#EF553B"
          ],
          [
           1,
           "#EF553B"
          ]
         ],
         "customdata": [
          [
           4836,
           690,
           4146
          ]
         ],
         "geo": "geo",
         "hovertemplate": "<b>%{hovertext}</b><br><br>Gap (%)=0.8573200992555832<br>Country=%{location}<br>Total Loss in MEUR=%{customdata[0]}<br>Insured Loss in MEUR=%{customdata[1]}<br>Gap in MEUR=%{customdata[2]}<extra></extra>",
         "hovertext": [
          "Germany (DE)"
         ],
         "locationmode": "country names",
         "locations": [
          "Germany (DE)"
         ],
         "name": "0.8573200992555832",
         "showlegend": true,
         "showscale": false,
         "type": "choropleth",
         "z": [
          1
         ]
        },
        {
         "colorscale": [
          [
           0,
           "#00cc96"
          ],
          [
           1,
           "#00cc96"
          ]
         ],
         "customdata": [
          [
           21237,
           13,
           21224
          ]
         ],
         "geo": "geo",
         "hovertemplate": "<b>%{hovertext}</b><br><br>Gap (%)=0.9993878608089655<br>Country=%{location}<br>Total Loss in MEUR=%{customdata[0]}<br>Insured Loss in MEUR=%{customdata[1]}<br>Gap in MEUR=%{customdata[2]}<extra></extra>",
         "hovertext": [
          "Germany (DE)"
         ],
         "locationmode": "country names",
         "locations": [
          "Germany (DE)"
         ],
         "name": "0.9993878608089655",
         "showlegend": true,
         "showscale": false,
         "type": "choropleth",
         "z": [
          1
         ]
        },
        {
         "colorscale": [
          [
           0,
           "#ab63fa"
          ],
          [
           1,
           "#ab63fa"
          ]
         ],
         "customdata": [
          [
           77339,
           19734,
           57605
          ]
         ],
         "geo": "geo",
         "hovertemplate": "<b>%{hovertext}</b><br><br>Gap (%)=0.7448376627574704<br>Country=%{location}<br>Total Loss in MEUR=%{customdata[0]}<br>Insured Loss in MEUR=%{customdata[1]}<br>Gap in MEUR=%{customdata[2]}<extra></extra>",
         "hovertext": [
          "Germany (DE)"
         ],
         "locationmode": "country names",
         "locations": [
          "Germany (DE)"
         ],
         "name": "0.7448376627574704",
         "showlegend": true,
         "showscale": false,
         "type": "choropleth",
         "z": [
          1
         ]
        },
        {
         "colorscale": [
          [
           0,
           "#FFA15A"
          ],
          [
           1,
           "#FFA15A"
          ]
         ],
         "customdata": [
          [
           76960,
           34323,
           42637
          ]
         ],
         "geo": "geo",
         "hovertemplate": "<b>%{hovertext}</b><br><br>Gap (%)=0.5540150727650728<br>Country=%{location}<br>Total Loss in MEUR=%{customdata[0]}<br>Insured Loss in MEUR=%{customdata[1]}<br>Gap in MEUR=%{customdata[2]}<extra></extra>",
         "hovertext": [
          "Germany (DE)"
         ],
         "locationmode": "country names",
         "locations": [
          "Germany (DE)"
         ],
         "name": "0.5540150727650728",
         "showlegend": true,
         "showscale": false,
         "type": "choropleth",
         "z": [
          1
         ]
        },
        {
         "colorscale": [
          [
           0,
           "#19d3f3"
          ],
          [
           1,
           "#19d3f3"
          ]
         ],
         "customdata": [
          [
           5920,
           138,
           5782
          ]
         ],
         "geo": "geo",
         "hovertemplate": "<b>%{hovertext}</b><br><br>Gap (%)=0.9766891891891892<br>Country=%{location}<br>Total Loss in MEUR=%{customdata[0]}<br>Insured Loss in MEUR=%{customdata[1]}<br>Gap in MEUR=%{customdata[2]}<extra></extra>",
         "hovertext": [
          "Greece (EL)"
         ],
         "locationmode": "country names",
         "locations": [
          "Greece (EL)"
         ],
         "name": "0.9766891891891892",
         "showlegend": true,
         "showscale": false,
         "type": "choropleth",
         "z": [
          1
         ]
        },
        {
         "colorscale": [
          [
           0,
           "#FF6692"
          ],
          [
           1,
           "#FF6692"
          ]
         ],
         "customdata": [
          [
           5408,
           597,
           4811
          ]
         ],
         "geo": "geo",
         "hovertemplate": "<b>%{hovertext}</b><br><br>Gap (%)=0.8896079881656804<br>Country=%{location}<br>Total Loss in MEUR=%{customdata[0]}<br>Insured Loss in MEUR=%{customdata[1]}<br>Gap in MEUR=%{customdata[2]}<extra></extra>",
         "hovertext": [
          "Greece (EL)"
         ],
         "locationmode": "country names",
         "locations": [
          "Greece (EL)"
         ],
         "name": "0.8896079881656804",
         "showlegend": true,
         "showscale": false,
         "type": "choropleth",
         "z": [
          1
         ]
        },
        {
         "colorscale": [
          [
           0,
           "#B6E880"
          ],
          [
           1,
           "#B6E880"
          ]
         ],
         "customdata": [
          [
           3279,
           114,
           3165
          ]
         ],
         "geo": "geo",
         "hovertemplate": "<b>%{hovertext}</b><br><br>Gap (%)=0.9652333028362305<br>Country=%{location}<br>Total Loss in MEUR=%{customdata[0]}<br>Insured Loss in MEUR=%{customdata[1]}<br>Gap in MEUR=%{customdata[2]}<extra></extra>",
         "hovertext": [
          "Greece (EL)"
         ],
         "locationmode": "country names",
         "locations": [
          "Greece (EL)"
         ],
         "name": "0.9652333028362305",
         "showlegend": true,
         "showscale": false,
         "type": "choropleth",
         "z": [
          1
         ]
        },
        {
         "colorscale": [
          [
           0,
           "#FF97FF"
          ],
          [
           1,
           "#FF97FF"
          ]
         ],
         "customdata": [
          [
           7847,
           149,
           7698
          ]
         ],
         "geo": "geo",
         "hovertemplate": "<b>%{hovertext}</b><br><br>Gap (%)=0.9810118516630559<br>Country=%{location}<br>Total Loss in MEUR=%{customdata[0]}<br>Insured Loss in MEUR=%{customdata[1]}<br>Gap in MEUR=%{customdata[2]}<extra></extra>",
         "hovertext": [
          "Hungary (HU)"
         ],
         "locationmode": "country names",
         "locations": [
          "Hungary (HU)"
         ],
         "name": "0.9810118516630559",
         "showlegend": true,
         "showscale": false,
         "type": "choropleth",
         "z": [
          1
         ]
        },
        {
         "colorscale": [
          [
           0,
           "#FECB52"
          ],
          [
           1,
           "#FECB52"
          ]
         ],
         "customdata": [
          [
           2163,
           22,
           2141
          ]
         ],
         "geo": "geo",
         "hovertemplate": "<b>%{hovertext}</b><br><br>Gap (%)=0.989828941285252<br>Country=%{location}<br>Total Loss in MEUR=%{customdata[0]}<br>Insured Loss in MEUR=%{customdata[1]}<br>Gap in MEUR=%{customdata[2]}<extra></extra>",
         "hovertext": [
          "Hungary (HU)"
         ],
         "locationmode": "country names",
         "locations": [
          "Hungary (HU)"
         ],
         "name": "0.989828941285252",
         "showlegend": true,
         "showscale": false,
         "type": "choropleth",
         "z": [
          1
         ]
        },
        {
         "colorscale": [
          [
           0,
           "#636efa"
          ],
          [
           1,
           "#636efa"
          ]
         ],
         "customdata": [
          [
           433,
           416,
           17
          ]
         ],
         "geo": "geo",
         "hovertemplate": "<b>%{hovertext}</b><br><br>Gap (%)=0.03926096997690531<br>Country=%{location}<br>Total Loss in MEUR=%{customdata[0]}<br>Insured Loss in MEUR=%{customdata[1]}<br>Gap in MEUR=%{customdata[2]}<extra></extra>",
         "hovertext": [
          "Hungary (HU)"
         ],
         "locationmode": "country names",
         "locations": [
          "Hungary (HU)"
         ],
         "name": "0.03926096997690531",
         "showlegend": true,
         "showscale": false,
         "type": "choropleth",
         "z": [
          1
         ]
        },
        {
         "colorscale": [
          [
           0,
           "#EF553B"
          ],
          [
           1,
           "#EF553B"
          ]
         ],
         "customdata": [
          [
           1501,
           155,
           1346
          ]
         ],
         "geo": "geo",
         "hovertemplate": "<b>%{hovertext}</b><br><br>Gap (%)=0.8967355096602265<br>Country=%{location}<br>Total Loss in MEUR=%{customdata[0]}<br>Insured Loss in MEUR=%{customdata[1]}<br>Gap in MEUR=%{customdata[2]}<extra></extra>",
         "hovertext": [
          "Ireland (IE)"
         ],
         "locationmode": "country names",
         "locations": [
          "Ireland (IE)"
         ],
         "name": "0.8967355096602265",
         "showlegend": true,
         "showscale": false,
         "type": "choropleth",
         "z": [
          1
         ]
        },
        {
         "colorscale": [
          [
           0,
           "#00cc96"
          ],
          [
           1,
           "#00cc96"
          ]
         ],
         "customdata": [
          [
           2454,
           386,
           2068
          ]
         ],
         "geo": "geo",
         "hovertemplate": "<b>%{hovertext}</b><br><br>Gap (%)=0.8427057864710676<br>Country=%{location}<br>Total Loss in MEUR=%{customdata[0]}<br>Insured Loss in MEUR=%{customdata[1]}<br>Gap in MEUR=%{customdata[2]}<extra></extra>",
         "hovertext": [
          "Ireland (IE)"
         ],
         "locationmode": "country names",
         "locations": [
          "Ireland (IE)"
         ],
         "name": "0.8427057864710676",
         "showlegend": true,
         "showscale": false,
         "type": "choropleth",
         "z": [
          1
         ]
        },
        {
         "colorscale": [
          [
           0,
           "#ab63fa"
          ],
          [
           1,
           "#ab63fa"
          ]
         ],
         "customdata": [
          [
           9047,
           1641,
           7406
          ]
         ],
         "geo": "geo",
         "hovertemplate": "<b>%{hovertext}</b><br><br>Gap (%)=0.8186139051619321<br>Country=%{location}<br>Total Loss in MEUR=%{customdata[0]}<br>Insured Loss in MEUR=%{customdata[1]}<br>Gap in MEUR=%{customdata[2]}<extra></extra>",
         "hovertext": [
          "Italy (IT)"
         ],
         "locationmode": "country names",
         "locations": [
          "Italy (IT)"
         ],
         "name": "0.8186139051619321",
         "showlegend": true,
         "showscale": false,
         "type": "choropleth",
         "z": [
          1
         ]
        },
        {
         "colorscale": [
          [
           0,
           "#FFA15A"
          ],
          [
           1,
           "#FFA15A"
          ]
         ],
         "customdata": [
          [
           32433,
           1701,
           30732
          ]
         ],
         "geo": "geo",
         "hovertemplate": "<b>%{hovertext}</b><br><br>Gap (%)=0.9475534178151882<br>Country=%{location}<br>Total Loss in MEUR=%{customdata[0]}<br>Insured Loss in MEUR=%{customdata[1]}<br>Gap in MEUR=%{customdata[2]}<extra></extra>",
         "hovertext": [
          "Italy (IT)"
         ],
         "locationmode": "country names",
         "locations": [
          "Italy (IT)"
         ],
         "name": "0.9475534178151882",
         "showlegend": true,
         "showscale": false,
         "type": "choropleth",
         "z": [
          1
         ]
        },
        {
         "colorscale": [
          [
           0,
           "#19d3f3"
          ],
          [
           1,
           "#19d3f3"
          ]
         ],
         "customdata": [
          [
           71799,
           2186,
           69613
          ]
         ],
         "geo": "geo",
         "hovertemplate": "<b>%{hovertext}</b><br><br>Gap (%)=0.9695538935082662<br>Country=%{location}<br>Total Loss in MEUR=%{customdata[0]}<br>Insured Loss in MEUR=%{customdata[1]}<br>Gap in MEUR=%{customdata[2]}<extra></extra>",
         "hovertext": [
          "Italy (IT)"
         ],
         "locationmode": "country names",
         "locations": [
          "Italy (IT)"
         ],
         "name": "0.9695538935082662",
         "showlegend": true,
         "showscale": false,
         "type": "choropleth",
         "z": [
          1
         ]
        },
        {
         "colorscale": [
          [
           0,
           "#FF6692"
          ],
          [
           1,
           "#FF6692"
          ]
         ],
         "customdata": [
          [
           20654,
           389,
           20265
          ]
         ],
         "geo": "geo",
         "hovertemplate": "<b>%{hovertext}</b><br><br>Gap (%)=0.9811658758593977<br>Country=%{location}<br>Total Loss in MEUR=%{customdata[0]}<br>Insured Loss in MEUR=%{customdata[1]}<br>Gap in MEUR=%{customdata[2]}<extra></extra>",
         "hovertext": [
          "Italy (IT)"
         ],
         "locationmode": "country names",
         "locations": [
          "Italy (IT)"
         ],
         "name": "0.9811658758593977",
         "showlegend": true,
         "showscale": false,
         "type": "choropleth",
         "z": [
          1
         ]
        },
        {
         "colorscale": [
          [
           0,
           "#B6E880"
          ],
          [
           1,
           "#B6E880"
          ]
         ],
         "customdata": [
          [
           573,
           1,
           572
          ]
         ],
         "geo": "geo",
         "hovertemplate": "<b>%{hovertext}</b><br><br>Gap (%)=0.9982547993019197<br>Country=%{location}<br>Total Loss in MEUR=%{customdata[0]}<br>Insured Loss in MEUR=%{customdata[1]}<br>Gap in MEUR=%{customdata[2]}<extra></extra>",
         "hovertext": [
          "Latvia (LV)"
         ],
         "locationmode": "country names",
         "locations": [
          "Latvia (LV)"
         ],
         "name": "0.9982547993019197",
         "showlegend": true,
         "showscale": false,
         "type": "choropleth",
         "z": [
          1
         ]
        },
        {
         "colorscale": [
          [
           0,
           "#FF97FF"
          ],
          [
           1,
           "#FF97FF"
          ]
         ],
         "customdata": [
          [
           557,
           70,
           487
          ]
         ],
         "geo": "geo",
         "hovertemplate": "<b>%{hovertext}</b><br><br>Gap (%)=0.874326750448833<br>Country=%{location}<br>Total Loss in MEUR=%{customdata[0]}<br>Insured Loss in MEUR=%{customdata[1]}<br>Gap in MEUR=%{customdata[2]}<extra></extra>",
         "hovertext": [
          "Latvia (LV)"
         ],
         "locationmode": "country names",
         "locations": [
          "Latvia (LV)"
         ],
         "name": "0.874326750448833",
         "showlegend": true,
         "showscale": false,
         "type": "choropleth",
         "z": [
          1
         ]
        },
        {
         "colorscale": [
          [
           0,
           "#FECB52"
          ],
          [
           1,
           "#FECB52"
          ]
         ],
         "customdata": [
          [
           11,
           9,
           2
          ]
         ],
         "geo": "geo",
         "hovertemplate": "<b>%{hovertext}</b><br><br>Gap (%)=0.18181818181818177<br>Country=%{location}<br>Total Loss in MEUR=%{customdata[0]}<br>Insured Loss in MEUR=%{customdata[1]}<br>Gap in MEUR=%{customdata[2]}<extra></extra>",
         "hovertext": [
          "Liechtenstein (LI)"
         ],
         "locationmode": "country names",
         "locations": [
          "Liechtenstein (LI)"
         ],
         "name": "0.18181818181818177",
         "showlegend": true,
         "showscale": false,
         "type": "choropleth",
         "z": [
          1
         ]
        },
        {
         "colorscale": [
          [
           0,
           "#636efa"
          ],
          [
           1,
           "#636efa"
          ]
         ],
         "customdata": [
          [
           1,
           1,
           0
          ],
          [
           9,
           9,
           0
          ]
         ],
         "geo": "geo",
         "hovertemplate": "<b>%{hovertext}</b><br><br>Gap (%)=0.0<br>Country=%{location}<br>Total Loss in MEUR=%{customdata[0]}<br>Insured Loss in MEUR=%{customdata[1]}<br>Gap in MEUR=%{customdata[2]}<extra></extra>",
         "hovertext": [
          "Liechtenstein (LI)",
          "Switzerland (CH)"
         ],
         "locationmode": "country names",
         "locations": [
          "Liechtenstein (LI)",
          "Switzerland (CH)"
         ],
         "name": "0.0",
         "showlegend": true,
         "showscale": false,
         "type": "choropleth",
         "z": [
          1,
          1
         ]
        },
        {
         "colorscale": [
          [
           0,
           "#EF553B"
          ],
          [
           1,
           "#EF553B"
          ]
         ],
         "customdata": [
          [
           424,
           8,
           416
          ]
         ],
         "geo": "geo",
         "hovertemplate": "<b>%{hovertext}</b><br><br>Gap (%)=0.9811320754716981<br>Country=%{location}<br>Total Loss in MEUR=%{customdata[0]}<br>Insured Loss in MEUR=%{customdata[1]}<br>Gap in MEUR=%{customdata[2]}<extra></extra>",
         "hovertext": [
          "Lithuania (LT)"
         ],
         "locationmode": "country names",
         "locations": [
          "Lithuania (LT)"
         ],
         "name": "0.9811320754716981",
         "showlegend": true,
         "showscale": false,
         "type": "choropleth",
         "z": [
          1
         ]
        },
        {
         "colorscale": [
          [
           0,
           "#00cc96"
          ],
          [
           1,
           "#00cc96"
          ]
         ],
         "customdata": [
          [
           178,
           50,
           128
          ]
         ],
         "geo": "geo",
         "hovertemplate": "<b>%{hovertext}</b><br><br>Gap (%)=0.7191011235955056<br>Country=%{location}<br>Total Loss in MEUR=%{customdata[0]}<br>Insured Loss in MEUR=%{customdata[1]}<br>Gap in MEUR=%{customdata[2]}<extra></extra>",
         "hovertext": [
          "Lithuania (LT)"
         ],
         "locationmode": "country names",
         "locations": [
          "Lithuania (LT)"
         ],
         "name": "0.7191011235955056",
         "showlegend": true,
         "showscale": false,
         "type": "choropleth",
         "z": [
          1
         ]
        },
        {
         "colorscale": [
          [
           0,
           "#ab63fa"
          ],
          [
           1,
           "#ab63fa"
          ]
         ],
         "customdata": [
          [
           260,
           124,
           136
          ]
         ],
         "geo": "geo",
         "hovertemplate": "<b>%{hovertext}</b><br><br>Gap (%)=0.523076923076923<br>Country=%{location}<br>Total Loss in MEUR=%{customdata[0]}<br>Insured Loss in MEUR=%{customdata[1]}<br>Gap in MEUR=%{customdata[2]}<extra></extra>",
         "hovertext": [
          "Luxembourg (LU)"
         ],
         "locationmode": "country names",
         "locations": [
          "Luxembourg (LU)"
         ],
         "name": "0.523076923076923",
         "showlegend": true,
         "showscale": false,
         "type": "choropleth",
         "z": [
          1
         ]
        },
        {
         "colorscale": [
          [
           0,
           "#FFA15A"
          ],
          [
           1,
           "#FFA15A"
          ]
         ],
         "customdata": [
          [
           1002,
           503,
           499
          ]
         ],
         "geo": "geo",
         "hovertemplate": "<b>%{hovertext}</b><br><br>Gap (%)=0.498003992015968<br>Country=%{location}<br>Total Loss in MEUR=%{customdata[0]}<br>Insured Loss in MEUR=%{customdata[1]}<br>Gap in MEUR=%{customdata[2]}<extra></extra>",
         "hovertext": [
          "Luxembourg (LU)"
         ],
         "locationmode": "country names",
         "locations": [
          "Luxembourg (LU)"
         ],
         "name": "0.498003992015968",
         "showlegend": true,
         "showscale": false,
         "type": "choropleth",
         "z": [
          1
         ]
        },
        {
         "colorscale": [
          [
           0,
           "#19d3f3"
          ],
          [
           1,
           "#19d3f3"
          ]
         ],
         "customdata": [
          [
           29,
           2,
           27
          ]
         ],
         "geo": "geo",
         "hovertemplate": "<b>%{hovertext}</b><br><br>Gap (%)=0.9310344827586207<br>Country=%{location}<br>Total Loss in MEUR=%{customdata[0]}<br>Insured Loss in MEUR=%{customdata[1]}<br>Gap in MEUR=%{customdata[2]}<extra></extra>",
         "hovertext": [
          "Malta (MT)"
         ],
         "locationmode": "country names",
         "locations": [
          "Malta (MT)"
         ],
         "name": "0.9310344827586207",
         "showlegend": true,
         "showscale": false,
         "type": "choropleth",
         "z": [
          1
         ]
        },
        {
         "colorscale": [
          [
           0,
           "#FF6692"
          ],
          [
           1,
           "#FF6692"
          ]
         ],
         "customdata": [
          [
           1746,
           15,
           1731
          ]
         ],
         "geo": "geo",
         "hovertemplate": "<b>%{hovertext}</b><br><br>Gap (%)=0.9914089347079038<br>Country=%{location}<br>Total Loss in MEUR=%{customdata[0]}<br>Insured Loss in MEUR=%{customdata[1]}<br>Gap in MEUR=%{customdata[2]}<extra></extra>",
         "hovertext": [
          "Netherlands (NL)"
         ],
         "locationmode": "country names",
         "locations": [
          "Netherlands (NL)"
         ],
         "name": "0.9914089347079038",
         "showlegend": true,
         "showscale": false,
         "type": "choropleth",
         "z": [
          1
         ]
        },
        {
         "colorscale": [
          [
           0,
           "#B6E880"
          ],
          [
           1,
           "#B6E880"
          ]
         ],
         "customdata": [
          [
           9224,
           4282,
           4942
          ]
         ],
         "geo": "geo",
         "hovertemplate": "<b>%{hovertext}</b><br><br>Gap (%)=0.5357762359063314<br>Country=%{location}<br>Total Loss in MEUR=%{customdata[0]}<br>Insured Loss in MEUR=%{customdata[1]}<br>Gap in MEUR=%{customdata[2]}<extra></extra>",
         "hovertext": [
          "Netherlands (NL)"
         ],
         "locationmode": "country names",
         "locations": [
          "Netherlands (NL)"
         ],
         "name": "0.5357762359063314",
         "showlegend": true,
         "showscale": false,
         "type": "choropleth",
         "z": [
          1
         ]
        },
        {
         "colorscale": [
          [
           0,
           "#FF97FF"
          ],
          [
           1,
           "#FF97FF"
          ]
         ],
         "customdata": [
          [
           38,
           5,
           33
          ]
         ],
         "geo": "geo",
         "hovertemplate": "<b>%{hovertext}</b><br><br>Gap (%)=0.868421052631579<br>Country=%{location}<br>Total Loss in MEUR=%{customdata[0]}<br>Insured Loss in MEUR=%{customdata[1]}<br>Gap in MEUR=%{customdata[2]}<extra></extra>",
         "hovertext": [
          "Norway (NO)"
         ],
         "locationmode": "country names",
         "locations": [
          "Norway (NO)"
         ],
         "name": "0.868421052631579",
         "showlegend": true,
         "showscale": false,
         "type": "choropleth",
         "z": [
          1
         ]
        },
        {
         "colorscale": [
          [
           0,
           "#FECB52"
          ],
          [
           1,
           "#FECB52"
          ]
         ],
         "customdata": [
          [
           1243,
           767,
           476
          ]
         ],
         "geo": "geo",
         "hovertemplate": "<b>%{hovertext}</b><br><br>Gap (%)=0.38294448913917944<br>Country=%{location}<br>Total Loss in MEUR=%{customdata[0]}<br>Insured Loss in MEUR=%{customdata[1]}<br>Gap in MEUR=%{customdata[2]}<extra></extra>",
         "hovertext": [
          "Norway (NO)"
         ],
         "locationmode": "country names",
         "locations": [
          "Norway (NO)"
         ],
         "name": "0.38294448913917944",
         "showlegend": true,
         "showscale": false,
         "type": "choropleth",
         "z": [
          1
         ]
        },
        {
         "colorscale": [
          [
           0,
           "#636efa"
          ],
          [
           1,
           "#636efa"
          ]
         ],
         "customdata": [
          [
           3135,
           2307,
           828
          ]
         ],
         "geo": "geo",
         "hovertemplate": "<b>%{hovertext}</b><br><br>Gap (%)=0.2641148325358852<br>Country=%{location}<br>Total Loss in MEUR=%{customdata[0]}<br>Insured Loss in MEUR=%{customdata[1]}<br>Gap in MEUR=%{customdata[2]}<extra></extra>",
         "hovertext": [
          "Norway (NO)"
         ],
         "locationmode": "country names",
         "locations": [
          "Norway (NO)"
         ],
         "name": "0.2641148325358852",
         "showlegend": true,
         "showscale": false,
         "type": "choropleth",
         "z": [
          1
         ]
        },
        {
         "colorscale": [
          [
           0,
           "#EF553B"
          ],
          [
           1,
           "#EF553B"
          ]
         ],
         "customdata": [
          [
           18538,
           1279,
           17259
          ]
         ],
         "geo": "geo",
         "hovertemplate": "<b>%{hovertext}</b><br><br>Gap (%)=0.9310065810767073<br>Country=%{location}<br>Total Loss in MEUR=%{customdata[0]}<br>Insured Loss in MEUR=%{customdata[1]}<br>Gap in MEUR=%{customdata[2]}<extra></extra>",
         "hovertext": [
          "Poland (PL)"
         ],
         "locationmode": "country names",
         "locations": [
          "Poland (PL)"
         ],
         "name": "0.9310065810767073",
         "showlegend": true,
         "showscale": false,
         "type": "choropleth",
         "z": [
          1
         ]
        },
        {
         "colorscale": [
          [
           0,
           "#00cc96"
          ],
          [
           1,
           "#00cc96"
          ]
         ],
         "customdata": [
          [
           767,
           100,
           667
          ]
         ],
         "geo": "geo",
         "hovertemplate": "<b>%{hovertext}</b><br><br>Gap (%)=0.8696219035202086<br>Country=%{location}<br>Total Loss in MEUR=%{customdata[0]}<br>Insured Loss in MEUR=%{customdata[1]}<br>Gap in MEUR=%{customdata[2]}<extra></extra>",
         "hovertext": [
          "Poland (PL)"
         ],
         "locationmode": "country names",
         "locations": [
          "Poland (PL)"
         ],
         "name": "0.8696219035202086",
         "showlegend": true,
         "showscale": false,
         "type": "choropleth",
         "z": [
          1
         ]
        },
        {
         "colorscale": [
          [
           0,
           "#ab63fa"
          ],
          [
           1,
           "#ab63fa"
          ]
         ],
         "customdata": [
          [
           7640,
           356,
           7284
          ]
         ],
         "geo": "geo",
         "hovertemplate": "<b>%{hovertext}</b><br><br>Gap (%)=0.9534031413612566<br>Country=%{location}<br>Total Loss in MEUR=%{customdata[0]}<br>Insured Loss in MEUR=%{customdata[1]}<br>Gap in MEUR=%{customdata[2]}<extra></extra>",
         "hovertext": [
          "Portugal (PT)"
         ],
         "locationmode": "country names",
         "locations": [
          "Portugal (PT)"
         ],
         "name": "0.9534031413612566",
         "showlegend": true,
         "showscale": false,
         "type": "choropleth",
         "z": [
          1
         ]
        },
        {
         "colorscale": [
          [
           0,
           "#FFA15A"
          ],
          [
           1,
           "#FFA15A"
          ]
         ],
         "customdata": [
          [
           4775,
           18,
           4757
          ]
         ],
         "geo": "geo",
         "hovertemplate": "<b>%{hovertext}</b><br><br>Gap (%)=0.9962303664921466<br>Country=%{location}<br>Total Loss in MEUR=%{customdata[0]}<br>Insured Loss in MEUR=%{customdata[1]}<br>Gap in MEUR=%{customdata[2]}<extra></extra>",
         "hovertext": [
          "Portugal (PT)"
         ],
         "locationmode": "country names",
         "locations": [
          "Portugal (PT)"
         ],
         "name": "0.9962303664921466",
         "showlegend": true,
         "showscale": false,
         "type": "choropleth",
         "z": [
          1
         ]
        },
        {
         "colorscale": [
          [
           0,
           "#19d3f3"
          ],
          [
           1,
           "#19d3f3"
          ]
         ],
         "customdata": [
          [
           2217,
           50,
           2167
          ]
         ],
         "geo": "geo",
         "hovertemplate": "<b>%{hovertext}</b><br><br>Gap (%)=0.97744700045106<br>Country=%{location}<br>Total Loss in MEUR=%{customdata[0]}<br>Insured Loss in MEUR=%{customdata[1]}<br>Gap in MEUR=%{customdata[2]}<extra></extra>",
         "hovertext": [
          "Portugal (PT)"
         ],
         "locationmode": "country names",
         "locations": [
          "Portugal (PT)"
         ],
         "name": "0.97744700045106",
         "showlegend": true,
         "showscale": false,
         "type": "choropleth",
         "z": [
          1
         ]
        },
        {
         "colorscale": [
          [
           0,
           "#FF6692"
          ],
          [
           1,
           "#FF6692"
          ]
         ],
         "customdata": [
          [
           2039,
           153,
           1886
          ]
         ],
         "geo": "geo",
         "hovertemplate": "<b>%{hovertext}</b><br><br>Gap (%)=0.9249632172633644<br>Country=%{location}<br>Total Loss in MEUR=%{customdata[0]}<br>Insured Loss in MEUR=%{customdata[1]}<br>Gap in MEUR=%{customdata[2]}<extra></extra>",
         "hovertext": [
          "Portugal (PT)"
         ],
         "locationmode": "country names",
         "locations": [
          "Portugal (PT)"
         ],
         "name": "0.9249632172633644",
         "showlegend": true,
         "showscale": false,
         "type": "choropleth",
         "z": [
          1
         ]
        },
        {
         "colorscale": [
          [
           0,
           "#B6E880"
          ],
          [
           1,
           "#B6E880"
          ]
         ],
         "customdata": [
          [
           11702,
           199,
           11503
          ]
         ],
         "geo": "geo",
         "hovertemplate": "<b>%{hovertext}</b><br><br>Gap (%)=0.9829943599384721<br>Country=%{location}<br>Total Loss in MEUR=%{customdata[0]}<br>Insured Loss in MEUR=%{customdata[1]}<br>Gap in MEUR=%{customdata[2]}<extra></extra>",
         "hovertext": [
          "Romania (RO)"
         ],
         "locationmode": "country names",
         "locations": [
          "Romania (RO)"
         ],
         "name": "0.9829943599384721",
         "showlegend": true,
         "showscale": false,
         "type": "choropleth",
         "z": [
          1
         ]
        },
        {
         "colorscale": [
          [
           0,
           "#FF97FF"
          ],
          [
           1,
           "#FF97FF"
          ]
         ],
         "customdata": [
          [
           927,
           65,
           862
          ]
         ],
         "geo": "geo",
         "hovertemplate": "<b>%{hovertext}</b><br><br>Gap (%)=0.9298813376483279<br>Country=%{location}<br>Total Loss in MEUR=%{customdata[0]}<br>Insured Loss in MEUR=%{customdata[1]}<br>Gap in MEUR=%{customdata[2]}<extra></extra>",
         "hovertext": [
          "Slovakia (SK)"
         ],
         "locationmode": "country names",
         "locations": [
          "Slovakia (SK)"
         ],
         "name": "0.9298813376483279",
         "showlegend": true,
         "showscale": false,
         "type": "choropleth",
         "z": [
          1
         ]
        },
        {
         "colorscale": [
          [
           0,
           "#FECB52"
          ],
          [
           1,
           "#FECB52"
          ]
         ],
         "customdata": [
          [
           661,
           19,
           642
          ]
         ],
         "geo": "geo",
         "hovertemplate": "<b>%{hovertext}</b><br><br>Gap (%)=0.9712556732223904<br>Country=%{location}<br>Total Loss in MEUR=%{customdata[0]}<br>Insured Loss in MEUR=%{customdata[1]}<br>Gap in MEUR=%{customdata[2]}<extra></extra>",
         "hovertext": [
          "Slovakia (SK)"
         ],
         "locationmode": "country names",
         "locations": [
          "Slovakia (SK)"
         ],
         "name": "0.9712556732223904",
         "showlegend": true,
         "showscale": false,
         "type": "choropleth",
         "z": [
          1
         ]
        },
        {
         "colorscale": [
          [
           0,
           "#636efa"
          ],
          [
           1,
           "#636efa"
          ]
         ],
         "customdata": [
          [
           13983,
           153,
           13830
          ]
         ],
         "geo": "geo",
         "hovertemplate": "<b>%{hovertext}</b><br><br>Gap (%)=0.9890581420296074<br>Country=%{location}<br>Total Loss in MEUR=%{customdata[0]}<br>Insured Loss in MEUR=%{customdata[1]}<br>Gap in MEUR=%{customdata[2]}<extra></extra>",
         "hovertext": [
          "Slovenia (SI)"
         ],
         "locationmode": "country names",
         "locations": [
          "Slovenia (SI)"
         ],
         "name": "0.9890581420296074",
         "showlegend": true,
         "showscale": false,
         "type": "choropleth",
         "z": [
          1
         ]
        },
        {
         "colorscale": [
          [
           0,
           "#EF553B"
          ],
          [
           1,
           "#EF553B"
          ]
         ],
         "customdata": [
          [
           1588,
           118,
           1470
          ]
         ],
         "geo": "geo",
         "hovertemplate": "<b>%{hovertext}</b><br><br>Gap (%)=0.9256926952141058<br>Country=%{location}<br>Total Loss in MEUR=%{customdata[0]}<br>Insured Loss in MEUR=%{customdata[1]}<br>Gap in MEUR=%{customdata[2]}<extra></extra>",
         "hovertext": [
          "Slovenia (SI)"
         ],
         "locationmode": "country names",
         "locations": [
          "Slovenia (SI)"
         ],
         "name": "0.9256926952141058",
         "showlegend": true,
         "showscale": false,
         "type": "choropleth",
         "z": [
          1
         ]
        },
        {
         "colorscale": [
          [
           0,
           "#00cc96"
          ],
          [
           1,
           "#00cc96"
          ]
         ],
         "customdata": [
          [
           16437,
           1185,
           15252
          ]
         ],
         "geo": "geo",
         "hovertemplate": "<b>%{hovertext}</b><br><br>Gap (%)=0.927906552290564<br>Country=%{location}<br>Total Loss in MEUR=%{customdata[0]}<br>Insured Loss in MEUR=%{customdata[1]}<br>Gap in MEUR=%{customdata[2]}<extra></extra>",
         "hovertext": [
          "Spain (ES)"
         ],
         "locationmode": "country names",
         "locations": [
          "Spain (ES)"
         ],
         "name": "0.927906552290564",
         "showlegend": true,
         "showscale": false,
         "type": "choropleth",
         "z": [
          1
         ]
        },
        {
         "colorscale": [
          [
           0,
           "#ab63fa"
          ],
          [
           1,
           "#ab63fa"
          ]
         ],
         "customdata": [
          [
           29336,
           207,
           29129
          ]
         ],
         "geo": "geo",
         "hovertemplate": "<b>%{hovertext}</b><br><br>Gap (%)=0.9929438232887919<br>Country=%{location}<br>Total Loss in MEUR=%{customdata[0]}<br>Insured Loss in MEUR=%{customdata[1]}<br>Gap in MEUR=%{customdata[2]}<extra></extra>",
         "hovertext": [
          "Spain (ES)"
         ],
         "locationmode": "country names",
         "locations": [
          "Spain (ES)"
         ],
         "name": "0.9929438232887919",
         "showlegend": true,
         "showscale": false,
         "type": "choropleth",
         "z": [
          1
         ]
        },
        {
         "colorscale": [
          [
           0,
           "#FFA15A"
          ],
          [
           1,
           "#FFA15A"
          ]
         ],
         "customdata": [
          [
           34512,
           3003,
           31509
          ]
         ],
         "geo": "geo",
         "hovertemplate": "<b>%{hovertext}</b><br><br>Gap (%)=0.9129867872044506<br>Country=%{location}<br>Total Loss in MEUR=%{customdata[0]}<br>Insured Loss in MEUR=%{customdata[1]}<br>Gap in MEUR=%{customdata[2]}<extra></extra>",
         "hovertext": [
          "Spain (ES)"
         ],
         "locationmode": "country names",
         "locations": [
          "Spain (ES)"
         ],
         "name": "0.9129867872044506",
         "showlegend": true,
         "showscale": false,
         "type": "choropleth",
         "z": [
          1
         ]
        },
        {
         "colorscale": [
          [
           0,
           "#19d3f3"
          ],
          [
           1,
           "#19d3f3"
          ]
         ],
         "customdata": [
          [
           15681,
           848,
           14833
          ]
         ],
         "geo": "geo",
         "hovertemplate": "<b>%{hovertext}</b><br><br>Gap (%)=0.9459218162107008<br>Country=%{location}<br>Total Loss in MEUR=%{customdata[0]}<br>Insured Loss in MEUR=%{customdata[1]}<br>Gap in MEUR=%{customdata[2]}<extra></extra>",
         "hovertext": [
          "Spain (ES)"
         ],
         "locationmode": "country names",
         "locations": [
          "Spain (ES)"
         ],
         "name": "0.9459218162107008",
         "showlegend": true,
         "showscale": false,
         "type": "choropleth",
         "z": [
          1
         ]
        },
        {
         "colorscale": [
          [
           0,
           "#FF6692"
          ],
          [
           1,
           "#FF6692"
          ]
         ],
         "customdata": [
          [
           210,
           23,
           187
          ]
         ],
         "geo": "geo",
         "hovertemplate": "<b>%{hovertext}</b><br><br>Gap (%)=0.8904761904761904<br>Country=%{location}<br>Total Loss in MEUR=%{customdata[0]}<br>Insured Loss in MEUR=%{customdata[1]}<br>Gap in MEUR=%{customdata[2]}<extra></extra>",
         "hovertext": [
          "Sweden (SE)"
         ],
         "locationmode": "country names",
         "locations": [
          "Sweden (SE)"
         ],
         "name": "0.8904761904761904",
         "showlegend": true,
         "showscale": false,
         "type": "choropleth",
         "z": [
          1
         ]
        },
        {
         "colorscale": [
          [
           0,
           "#B6E880"
          ],
          [
           1,
           "#B6E880"
          ]
         ],
         "customdata": [
          [
           189,
           74,
           115
          ]
         ],
         "geo": "geo",
         "hovertemplate": "<b>%{hovertext}</b><br><br>Gap (%)=0.6084656084656085<br>Country=%{location}<br>Total Loss in MEUR=%{customdata[0]}<br>Insured Loss in MEUR=%{customdata[1]}<br>Gap in MEUR=%{customdata[2]}<extra></extra>",
         "hovertext": [
          "Sweden (SE)"
         ],
         "locationmode": "country names",
         "locations": [
          "Sweden (SE)"
         ],
         "name": "0.6084656084656085",
         "showlegend": true,
         "showscale": false,
         "type": "choropleth",
         "z": [
          1
         ]
        },
        {
         "colorscale": [
          [
           0,
           "#FF97FF"
          ],
          [
           1,
           "#FF97FF"
          ]
         ],
         "customdata": [
          [
           3305,
           860,
           2445
          ]
         ],
         "geo": "geo",
         "hovertemplate": "<b>%{hovertext}</b><br><br>Gap (%)=0.7397881996974282<br>Country=%{location}<br>Total Loss in MEUR=%{customdata[0]}<br>Insured Loss in MEUR=%{customdata[1]}<br>Gap in MEUR=%{customdata[2]}<extra></extra>",
         "hovertext": [
          "Sweden (SE)"
         ],
         "locationmode": "country names",
         "locations": [
          "Sweden (SE)"
         ],
         "name": "0.7397881996974282",
         "showlegend": true,
         "showscale": false,
         "type": "choropleth",
         "z": [
          1
         ]
        },
        {
         "colorscale": [
          [
           0,
           "#FECB52"
          ],
          [
           1,
           "#FECB52"
          ]
         ],
         "customdata": [
          [
           10369,
           3892,
           6477
          ]
         ],
         "geo": "geo",
         "hovertemplate": "<b>%{hovertext}</b><br><br>Gap (%)=0.6246504002314592<br>Country=%{location}<br>Total Loss in MEUR=%{customdata[0]}<br>Insured Loss in MEUR=%{customdata[1]}<br>Gap in MEUR=%{customdata[2]}<extra></extra>",
         "hovertext": [
          "Switzerland (CH)"
         ],
         "locationmode": "country names",
         "locations": [
          "Switzerland (CH)"
         ],
         "name": "0.6246504002314592",
         "showlegend": true,
         "showscale": false,
         "type": "choropleth",
         "z": [
          1
         ]
        },
        {
         "colorscale": [
          [
           0,
           "#636efa"
          ],
          [
           1,
           "#636efa"
          ]
         ],
         "customdata": [
          [
           9088,
           3376,
           5712
          ]
         ],
         "geo": "geo",
         "hovertemplate": "<b>%{hovertext}</b><br><br>Gap (%)=0.6285211267605634<br>Country=%{location}<br>Total Loss in MEUR=%{customdata[0]}<br>Insured Loss in MEUR=%{customdata[1]}<br>Gap in MEUR=%{customdata[2]}<extra></extra>",
         "hovertext": [
          "Switzerland (CH)"
         ],
         "locationmode": "country names",
         "locations": [
          "Switzerland (CH)"
         ],
         "name": "0.6285211267605634",
         "showlegend": true,
         "showscale": false,
         "type": "choropleth",
         "z": [
          1
         ]
        },
        {
         "colorscale": [
          [
           0,
           "#EF553B"
          ],
          [
           1,
           "#EF553B"
          ]
         ],
         "customdata": [
          [
           6041,
           293,
           5748
          ]
         ],
         "geo": "geo",
         "hovertemplate": "<b>%{hovertext}</b><br><br>Gap (%)=0.9514980963416653<br>Country=%{location}<br>Total Loss in MEUR=%{customdata[0]}<br>Insured Loss in MEUR=%{customdata[1]}<br>Gap in MEUR=%{customdata[2]}<extra></extra>",
         "hovertext": [
          "Türkiye (TR)"
         ],
         "locationmode": "country names",
         "locations": [
          "Türkiye (TR)"
         ],
         "name": "0.9514980963416653",
         "showlegend": true,
         "showscale": false,
         "type": "choropleth",
         "z": [
          1
         ]
        },
        {
         "colorscale": [
          [
           0,
           "#00cc96"
          ],
          [
           1,
           "#00cc96"
          ]
         ],
         "customdata": [
          [
           591,
           163,
           428
          ]
         ],
         "geo": "geo",
         "hovertemplate": "<b>%{hovertext}</b><br><br>Gap (%)=0.7241962774957699<br>Country=%{location}<br>Total Loss in MEUR=%{customdata[0]}<br>Insured Loss in MEUR=%{customdata[1]}<br>Gap in MEUR=%{customdata[2]}<extra></extra>",
         "hovertext": [
          "Türkiye (TR)"
         ],
         "locationmode": "country names",
         "locations": [
          "Türkiye (TR)"
         ],
         "name": "0.7241962774957699",
         "showlegend": true,
         "showscale": false,
         "type": "choropleth",
         "z": [
          1
         ]
        }
       ],
       "layout": {
        "geo": {
         "center": {
          "lat": 55,
          "lon": 15
         },
         "domain": {
          "x": [
           0,
           1
          ],
          "y": [
           0,
           1
          ]
         },
         "lataxis": {
          "range": [
           45,
           80
          ]
         },
         "lonaxis": {
          "range": [
           -35,
           75
          ]
         },
         "projection": {
          "type": "mercator"
         }
        },
        "legend": {
         "title": {
          "text": "Gap (%)"
         },
         "tracegroupgap": 0
        },
        "template": {
         "data": {
          "bar": [
           {
            "error_x": {
             "color": "#2a3f5f"
            },
            "error_y": {
             "color": "#2a3f5f"
            },
            "marker": {
             "line": {
              "color": "#E5ECF6",
              "width": 0.5
             },
             "pattern": {
              "fillmode": "overlay",
              "size": 10,
              "solidity": 0.2
             }
            },
            "type": "bar"
           }
          ],
          "barpolar": [
           {
            "marker": {
             "line": {
              "color": "#E5ECF6",
              "width": 0.5
             },
             "pattern": {
              "fillmode": "overlay",
              "size": 10,
              "solidity": 0.2
             }
            },
            "type": "barpolar"
           }
          ],
          "carpet": [
           {
            "aaxis": {
             "endlinecolor": "#2a3f5f",
             "gridcolor": "white",
             "linecolor": "white",
             "minorgridcolor": "white",
             "startlinecolor": "#2a3f5f"
            },
            "baxis": {
             "endlinecolor": "#2a3f5f",
             "gridcolor": "white",
             "linecolor": "white",
             "minorgridcolor": "white",
             "startlinecolor": "#2a3f5f"
            },
            "type": "carpet"
           }
          ],
          "choropleth": [
           {
            "colorbar": {
             "outlinewidth": 0,
             "ticks": ""
            },
            "type": "choropleth"
           }
          ],
          "contour": [
           {
            "colorbar": {
             "outlinewidth": 0,
             "ticks": ""
            },
            "colorscale": [
             [
              0,
              "#0d0887"
             ],
             [
              0.1111111111111111,
              "#46039f"
             ],
             [
              0.2222222222222222,
              "#7201a8"
             ],
             [
              0.3333333333333333,
              "#9c179e"
             ],
             [
              0.4444444444444444,
              "#bd3786"
             ],
             [
              0.5555555555555556,
              "#d8576b"
             ],
             [
              0.6666666666666666,
              "#ed7953"
             ],
             [
              0.7777777777777778,
              "#fb9f3a"
             ],
             [
              0.8888888888888888,
              "#fdca26"
             ],
             [
              1,
              "#f0f921"
             ]
            ],
            "type": "contour"
           }
          ],
          "contourcarpet": [
           {
            "colorbar": {
             "outlinewidth": 0,
             "ticks": ""
            },
            "type": "contourcarpet"
           }
          ],
          "heatmap": [
           {
            "colorbar": {
             "outlinewidth": 0,
             "ticks": ""
            },
            "colorscale": [
             [
              0,
              "#0d0887"
             ],
             [
              0.1111111111111111,
              "#46039f"
             ],
             [
              0.2222222222222222,
              "#7201a8"
             ],
             [
              0.3333333333333333,
              "#9c179e"
             ],
             [
              0.4444444444444444,
              "#bd3786"
             ],
             [
              0.5555555555555556,
              "#d8576b"
             ],
             [
              0.6666666666666666,
              "#ed7953"
             ],
             [
              0.7777777777777778,
              "#fb9f3a"
             ],
             [
              0.8888888888888888,
              "#fdca26"
             ],
             [
              1,
              "#f0f921"
             ]
            ],
            "type": "heatmap"
           }
          ],
          "heatmapgl": [
           {
            "colorbar": {
             "outlinewidth": 0,
             "ticks": ""
            },
            "colorscale": [
             [
              0,
              "#0d0887"
             ],
             [
              0.1111111111111111,
              "#46039f"
             ],
             [
              0.2222222222222222,
              "#7201a8"
             ],
             [
              0.3333333333333333,
              "#9c179e"
             ],
             [
              0.4444444444444444,
              "#bd3786"
             ],
             [
              0.5555555555555556,
              "#d8576b"
             ],
             [
              0.6666666666666666,
              "#ed7953"
             ],
             [
              0.7777777777777778,
              "#fb9f3a"
             ],
             [
              0.8888888888888888,
              "#fdca26"
             ],
             [
              1,
              "#f0f921"
             ]
            ],
            "type": "heatmapgl"
           }
          ],
          "histogram": [
           {
            "marker": {
             "pattern": {
              "fillmode": "overlay",
              "size": 10,
              "solidity": 0.2
             }
            },
            "type": "histogram"
           }
          ],
          "histogram2d": [
           {
            "colorbar": {
             "outlinewidth": 0,
             "ticks": ""
            },
            "colorscale": [
             [
              0,
              "#0d0887"
             ],
             [
              0.1111111111111111,
              "#46039f"
             ],
             [
              0.2222222222222222,
              "#7201a8"
             ],
             [
              0.3333333333333333,
              "#9c179e"
             ],
             [
              0.4444444444444444,
              "#bd3786"
             ],
             [
              0.5555555555555556,
              "#d8576b"
             ],
             [
              0.6666666666666666,
              "#ed7953"
             ],
             [
              0.7777777777777778,
              "#fb9f3a"
             ],
             [
              0.8888888888888888,
              "#fdca26"
             ],
             [
              1,
              "#f0f921"
             ]
            ],
            "type": "histogram2d"
           }
          ],
          "histogram2dcontour": [
           {
            "colorbar": {
             "outlinewidth": 0,
             "ticks": ""
            },
            "colorscale": [
             [
              0,
              "#0d0887"
             ],
             [
              0.1111111111111111,
              "#46039f"
             ],
             [
              0.2222222222222222,
              "#7201a8"
             ],
             [
              0.3333333333333333,
              "#9c179e"
             ],
             [
              0.4444444444444444,
              "#bd3786"
             ],
             [
              0.5555555555555556,
              "#d8576b"
             ],
             [
              0.6666666666666666,
              "#ed7953"
             ],
             [
              0.7777777777777778,
              "#fb9f3a"
             ],
             [
              0.8888888888888888,
              "#fdca26"
             ],
             [
              1,
              "#f0f921"
             ]
            ],
            "type": "histogram2dcontour"
           }
          ],
          "mesh3d": [
           {
            "colorbar": {
             "outlinewidth": 0,
             "ticks": ""
            },
            "type": "mesh3d"
           }
          ],
          "parcoords": [
           {
            "line": {
             "colorbar": {
              "outlinewidth": 0,
              "ticks": ""
             }
            },
            "type": "parcoords"
           }
          ],
          "pie": [
           {
            "automargin": true,
            "type": "pie"
           }
          ],
          "scatter": [
           {
            "fillpattern": {
             "fillmode": "overlay",
             "size": 10,
             "solidity": 0.2
            },
            "type": "scatter"
           }
          ],
          "scatter3d": [
           {
            "line": {
             "colorbar": {
              "outlinewidth": 0,
              "ticks": ""
             }
            },
            "marker": {
             "colorbar": {
              "outlinewidth": 0,
              "ticks": ""
             }
            },
            "type": "scatter3d"
           }
          ],
          "scattercarpet": [
           {
            "marker": {
             "colorbar": {
              "outlinewidth": 0,
              "ticks": ""
             }
            },
            "type": "scattercarpet"
           }
          ],
          "scattergeo": [
           {
            "marker": {
             "colorbar": {
              "outlinewidth": 0,
              "ticks": ""
             }
            },
            "type": "scattergeo"
           }
          ],
          "scattergl": [
           {
            "marker": {
             "colorbar": {
              "outlinewidth": 0,
              "ticks": ""
             }
            },
            "type": "scattergl"
           }
          ],
          "scattermapbox": [
           {
            "marker": {
             "colorbar": {
              "outlinewidth": 0,
              "ticks": ""
             }
            },
            "type": "scattermapbox"
           }
          ],
          "scatterpolar": [
           {
            "marker": {
             "colorbar": {
              "outlinewidth": 0,
              "ticks": ""
             }
            },
            "type": "scatterpolar"
           }
          ],
          "scatterpolargl": [
           {
            "marker": {
             "colorbar": {
              "outlinewidth": 0,
              "ticks": ""
             }
            },
            "type": "scatterpolargl"
           }
          ],
          "scatterternary": [
           {
            "marker": {
             "colorbar": {
              "outlinewidth": 0,
              "ticks": ""
             }
            },
            "type": "scatterternary"
           }
          ],
          "surface": [
           {
            "colorbar": {
             "outlinewidth": 0,
             "ticks": ""
            },
            "colorscale": [
             [
              0,
              "#0d0887"
             ],
             [
              0.1111111111111111,
              "#46039f"
             ],
             [
              0.2222222222222222,
              "#7201a8"
             ],
             [
              0.3333333333333333,
              "#9c179e"
             ],
             [
              0.4444444444444444,
              "#bd3786"
             ],
             [
              0.5555555555555556,
              "#d8576b"
             ],
             [
              0.6666666666666666,
              "#ed7953"
             ],
             [
              0.7777777777777778,
              "#fb9f3a"
             ],
             [
              0.8888888888888888,
              "#fdca26"
             ],
             [
              1,
              "#f0f921"
             ]
            ],
            "type": "surface"
           }
          ],
          "table": [
           {
            "cells": {
             "fill": {
              "color": "#EBF0F8"
             },
             "line": {
              "color": "white"
             }
            },
            "header": {
             "fill": {
              "color": "#C8D4E3"
             },
             "line": {
              "color": "white"
             }
            },
            "type": "table"
           }
          ]
         },
         "layout": {
          "annotationdefaults": {
           "arrowcolor": "#2a3f5f",
           "arrowhead": 0,
           "arrowwidth": 1
          },
          "autotypenumbers": "strict",
          "coloraxis": {
           "colorbar": {
            "outlinewidth": 0,
            "ticks": ""
           }
          },
          "colorscale": {
           "diverging": [
            [
             0,
             "#8e0152"
            ],
            [
             0.1,
             "#c51b7d"
            ],
            [
             0.2,
             "#de77ae"
            ],
            [
             0.3,
             "#f1b6da"
            ],
            [
             0.4,
             "#fde0ef"
            ],
            [
             0.5,
             "#f7f7f7"
            ],
            [
             0.6,
             "#e6f5d0"
            ],
            [
             0.7,
             "#b8e186"
            ],
            [
             0.8,
             "#7fbc41"
            ],
            [
             0.9,
             "#4d9221"
            ],
            [
             1,
             "#276419"
            ]
           ],
           "sequential": [
            [
             0,
             "#0d0887"
            ],
            [
             0.1111111111111111,
             "#46039f"
            ],
            [
             0.2222222222222222,
             "#7201a8"
            ],
            [
             0.3333333333333333,
             "#9c179e"
            ],
            [
             0.4444444444444444,
             "#bd3786"
            ],
            [
             0.5555555555555556,
             "#d8576b"
            ],
            [
             0.6666666666666666,
             "#ed7953"
            ],
            [
             0.7777777777777778,
             "#fb9f3a"
            ],
            [
             0.8888888888888888,
             "#fdca26"
            ],
            [
             1,
             "#f0f921"
            ]
           ],
           "sequentialminus": [
            [
             0,
             "#0d0887"
            ],
            [
             0.1111111111111111,
             "#46039f"
            ],
            [
             0.2222222222222222,
             "#7201a8"
            ],
            [
             0.3333333333333333,
             "#9c179e"
            ],
            [
             0.4444444444444444,
             "#bd3786"
            ],
            [
             0.5555555555555556,
             "#d8576b"
            ],
            [
             0.6666666666666666,
             "#ed7953"
            ],
            [
             0.7777777777777778,
             "#fb9f3a"
            ],
            [
             0.8888888888888888,
             "#fdca26"
            ],
            [
             1,
             "#f0f921"
            ]
           ]
          },
          "colorway": [
           "#636efa",
           "#EF553B",
           "#00cc96",
           "#ab63fa",
           "#FFA15A",
           "#19d3f3",
           "#FF6692",
           "#B6E880",
           "#FF97FF",
           "#FECB52"
          ],
          "font": {
           "color": "#2a3f5f"
          },
          "geo": {
           "bgcolor": "white",
           "lakecolor": "white",
           "landcolor": "#E5ECF6",
           "showlakes": true,
           "showland": true,
           "subunitcolor": "white"
          },
          "hoverlabel": {
           "align": "left"
          },
          "hovermode": "closest",
          "mapbox": {
           "style": "light"
          },
          "paper_bgcolor": "white",
          "plot_bgcolor": "#E5ECF6",
          "polar": {
           "angularaxis": {
            "gridcolor": "white",
            "linecolor": "white",
            "ticks": ""
           },
           "bgcolor": "#E5ECF6",
           "radialaxis": {
            "gridcolor": "white",
            "linecolor": "white",
            "ticks": ""
           }
          },
          "scene": {
           "xaxis": {
            "backgroundcolor": "#E5ECF6",
            "gridcolor": "white",
            "gridwidth": 2,
            "linecolor": "white",
            "showbackground": true,
            "ticks": "",
            "zerolinecolor": "white"
           },
           "yaxis": {
            "backgroundcolor": "#E5ECF6",
            "gridcolor": "white",
            "gridwidth": 2,
            "linecolor": "white",
            "showbackground": true,
            "ticks": "",
            "zerolinecolor": "white"
           },
           "zaxis": {
            "backgroundcolor": "#E5ECF6",
            "gridcolor": "white",
            "gridwidth": 2,
            "linecolor": "white",
            "showbackground": true,
            "ticks": "",
            "zerolinecolor": "white"
           }
          },
          "shapedefaults": {
           "line": {
            "color": "#2a3f5f"
           }
          },
          "ternary": {
           "aaxis": {
            "gridcolor": "white",
            "linecolor": "white",
            "ticks": ""
           },
           "baxis": {
            "gridcolor": "white",
            "linecolor": "white",
            "ticks": ""
           },
           "bgcolor": "#E5ECF6",
           "caxis": {
            "gridcolor": "white",
            "linecolor": "white",
            "ticks": ""
           }
          },
          "title": {
           "x": 0.05
          },
          "xaxis": {
           "automargin": true,
           "gridcolor": "white",
           "linecolor": "white",
           "ticks": "",
           "title": {
            "standoff": 15
           },
           "zerolinecolor": "white",
           "zerolinewidth": 2
          },
          "yaxis": {
           "automargin": true,
           "gridcolor": "white",
           "linecolor": "white",
           "ticks": "",
           "title": {
            "standoff": 15
           },
           "zerolinecolor": "white",
           "zerolinewidth": 2
          }
         }
        },
        "title": {
         "text": "Climate Loss Protection Gap in Europe"
        }
       }
      }
     },
     "metadata": {},
     "output_type": "display_data"
    }
   ],
   "source": [
    "import plotly.express as px\n",
    "\n",
    "fig = px.choropleth(\n",
    "    merged,\n",
    "    locations=\"Country\",\n",
    "    locationmode=\"country names\",   # if 'Austria (AT)' you'll need to strip codes\n",
    "    color=\"Gap (%)\",\n",
    "    hover_name=\"Country\",\n",
    "    hover_data=[\"Total Loss in MEUR\",\"Insured Loss in MEUR\",\"Gap in MEUR\"],\n",
    "    color_continuous_scale=\"Reds\",\n",
    "    title=\"Climate Loss Protection Gap in Europe\"\n",
    ")\n",
    "    # Focus on Europe\n",
    "fig.update_geos(\n",
    "    projection_type=\"mercator\",\n",
    "    center={\"lat\": 55, \"lon\": 15},  # center roughly over Europe\n",
    "    lataxis_range=[45, 80],         # vertical zoom\n",
    "    lonaxis_range=[-35, 75]         # horizontal zoom\n",
    ")\n",
    "fig.show()\n"
   ]
  },
  {
   "cell_type": "markdown",
   "metadata": {},
   "source": [
    "### Regression Analysis: Can we Predict the Protection Gap?\n",
    "\n",
    "We used a simple **linear regression model** to see whether a country’s protection gap (%) can be predicted from:\n",
    "\n",
    "- **Total Loss in MEUR**  \n",
    "- **Insured Loss in MEUR**  \n",
    "- **Hazard Type** (encoded as categorical variables)  \n",
    "\n",
    "The idea:  \n",
    "- If the model has good predictive power, it means **loss values and hazard types explain the variation in insurance coverage**.  \n",
    "- If the model performs poorly, it suggests the protection gap is largely systemic (e.g. most countries have near-100% gaps regardless of hazard).\n",
    "\n",
    "**R² Score:**  \n",
    "- The `R²` value printed shows how much of the variation in `Gap (%)` is explained by the model.  \n",
    "- An `R²` close to 0 means the model cannot improve much beyond simply guessing the average gap.  \n",
    "- This would confirm our observation: **many countries have gaps at or near 100%**, making them hard to differentiate with regression.  \n",
    "\n",
    " Takeaway: Regression tells us that underinsurance is a **broad, structural problem** across Europe rather than something explained by hazard type or recent losses alone.\n"
   ]
  },
  {
   "cell_type": "code",
   "execution_count": 36,
   "metadata": {},
   "outputs": [
    {
     "name": "stdout",
     "output_type": "stream",
     "text": [
      "R^2: -2.1542558772963947\n"
     ]
    }
   ],
   "source": [
    "from sklearn.model_selection import train_test_split\n",
    "from sklearn.linear_model import LinearRegression\n",
    "from sklearn.preprocessing import OneHotEncoder\n",
    "from sklearn.compose import ColumnTransformer\n",
    "from sklearn.pipeline import Pipeline\n",
    "\n",
    "df = pd.read_csv(\"Climate_Losses_Cleaned.csv\")\n",
    "\n",
    "# Features + Target\n",
    "X = df[[\"Total Loss in MEUR\",\"Insured Loss in MEUR\",\"Hazard\"]]\n",
    "y = df[\"Gap (%)\"]\n",
    "\n",
    "# One-hot encode Hazard\n",
    "preprocessor = ColumnTransformer(\n",
    "    transformers=[(\"hazard\", OneHotEncoder(drop=\"first\"), [\"Hazard\"])],\n",
    "    remainder=\"passthrough\"\n",
    ")\n",
    "\n",
    "# Simple regression\n",
    "model = Pipeline([\n",
    "    (\"prep\", preprocessor),\n",
    "    (\"reg\", LinearRegression())\n",
    "])\n",
    "\n",
    "X_train, X_test, y_train, y_test = train_test_split(X, y, test_size=0.2, random_state=42)\n",
    "model.fit(X_train, y_train)\n",
    "\n",
    "print(\"R^2:\", model.score(X_test, y_test))\n"
   ]
  },
  {
   "cell_type": "markdown",
   "metadata": {},
   "source": [
    "### Regression Results: Predicted vs Actual Gap (%)\n",
    "\n",
    "This plot compares the **predicted protection gap** from our regression model with the **actual gap values**:\n",
    "\n",
    "- Each blue dot = one test observation (country–hazard combination).  \n",
    "- The red dashed line = perfect predictions (where predicted = actual).  \n",
    "\n",
    "**What we see:**\n",
    "- Most points cluster tightly near the **top-right corner** (Gap ~ 0.8–1.0).  \n",
    "- The model is unable to spread predictions across the full range of possible gaps.  \n",
    "- This reflects the underlying data problem: **many countries have protection gaps close to 100%**, regardless of hazard type or loss values.  \n",
    "\n",
    "**Interpretation:**\n",
    "- Regression confirms our earlier suspicion: **the gap is largely structural**, not easily explained by hazard or recent loss history.  \n",
    "- This makes regression less useful for *prediction*, but valuable for showing that the insurance shortfall is systemic across Europe.  \n",
    "\n",
    " This motivates trying **clustering instead of regression**, to group countries by their overall risk/insurance profile rather than trying to predict a single number.\n"
   ]
  },
  {
   "cell_type": "code",
   "execution_count": 38,
   "metadata": {},
   "outputs": [
    {
     "data": {
      "image/png": "[encoded data removed]",
      "text/plain": [
       "<Figure size 600x600 with 1 Axes>"
      ]
     },
     "metadata": {},
     "output_type": "display_data"
    }
   ],
   "source": [
    "import matplotlib.pyplot as plt\n",
    "\n",
    "y_pred = model.predict(X_test)\n",
    "\n",
    "plt.figure(figsize=(6,6))\n",
    "plt.scatter(y_test, y_pred, alpha=0.6)\n",
    "plt.plot([0,1],[0,1], 'r--')  # perfect prediction line\n",
    "plt.xlabel(\"Actual Gap (%)\")\n",
    "plt.ylabel(\"Predicted Gap (%)\")\n",
    "plt.title(\"Regression: Predicted vs Actual Gap (%)\")\n",
    "plt.show()\n"
   ]
  },
  {
   "cell_type": "code",
   "execution_count": null,
   "metadata": {},
   "outputs": [
    {
     "name": "stdout",
     "output_type": "stream",
     "text": [
      "Collecting adjustText\n",
      "  Downloading adjustText-1.3.0-py3-none-any.whl.metadata (3.1 kB)\n",
      "Requirement already satisfied: numpy in c:\\programdata\\anaconda3\\lib\\site-packages (from adjustText) (1.26.4)\n",
      "Requirement already satisfied: matplotlib in c:\\programdata\\anaconda3\\lib\\site-packages (from adjustText) (3.9.2)\n",
      "Requirement already satisfied: scipy in c:\\programdata\\anaconda3\\lib\\site-packages (from adjustText) (1.13.1)\n",
      "Requirement already satisfied: contourpy>=1.0.1 in c:\\programdata\\anaconda3\\lib\\site-packages (from matplotlib->adjustText) (1.2.0)\n",
      "Requirement already satisfied: cycler>=0.10 in c:\\programdata\\anaconda3\\lib\\site-packages (from matplotlib->adjustText) (0.11.0)\n",
      "Requirement already satisfied: fonttools>=4.22.0 in c:\\programdata\\anaconda3\\lib\\site-packages (from matplotlib->adjustText) (4.51.0)\n",
      "Requirement already satisfied: kiwisolver>=1.3.1 in c:\\programdata\\anaconda3\\lib\\site-packages (from matplotlib->adjustText) (1.4.4)\n",
      "Requirement already satisfied: packaging>=20.0 in c:\\programdata\\anaconda3\\lib\\site-packages (from matplotlib->adjustText) (24.1)\n",
      "Requirement already satisfied: pillow>=8 in c:\\programdata\\anaconda3\\lib\\site-packages (from matplotlib->adjustText) (10.4.0)\n",
      "Requirement already satisfied: pyparsing>=2.3.1 in c:\\programdata\\anaconda3\\lib\\site-packages (from matplotlib->adjustText) (3.1.2)\n",
      "Requirement already satisfied: python-dateutil>=2.7 in c:\\programdata\\anaconda3\\lib\\site-packages (from matplotlib->adjustText) (2.9.0.post0)\n",
      "Requirement already satisfied: six>=1.5 in c:\\programdata\\anaconda3\\lib\\site-packages (from python-dateutil>=2.7->matplotlib->adjustText) (1.16.0)\n",
      "Downloading adjustText-1.3.0-py3-none-any.whl (13 kB)\n",
      "Installing collected packages: adjustText\n",
      "Successfully installed adjustText-1.3.0\n",
      "Note: you may need to restart the kernel to use updated packages.\n"
     ]
    }
   ],
   "source": [
    "pip install adjustText\n"
   ]
  },
  {
   "cell_type": "markdown",
   "metadata": {},
   "source": [
    "# K Means Clustering\n",
    "#Good"
   ]
  },
  {
   "cell_type": "markdown",
   "metadata": {},
   "source": [
    "### Clustering Results: Country Profiles of Climate Loss & Protection Gap\n",
    "\n",
    "Since regression showed that protection gaps are **structural** rather than easily predicted,  \n",
    "we applied **K-Means clustering** to group countries based on their:\n",
    "\n",
    "- **Total Loss (MEUR)**  \n",
    "- **Gap in MEUR (uninsured losses)**  \n",
    "- **Gap (%)**  \n",
    "\n",
    "**Why log scale?**  \n",
    "- Climate losses vary from **tens of millions** (e.g. Albania) to **hundreds of billions** (e.g. Germany).  \n",
    "- On a normal (linear) chart, small countries would be squashed into the corner while outliers dominate the plot.  \n",
    "- A **log scale compresses large values and expands small ones**, letting us see *both small and large countries together* on the same chart.  \n",
    "- This way, the **overall distribution and relative clusters** become clear.  \n",
    "\n",
    "\n",
    "**Plot explanation:**\n",
    "- Each dot = one country.  \n",
    "- Axes are log-scaled so that both small countries (tens of millions) and large ones (hundreds of billions) fit on the same chart.  \n",
    "- Colours = cluster membership, showing countries with similar loss–gap profiles.  \n",
    "\n",
    "**What we see:**\n",
    "- A cluster of **smaller economies** with relatively low losses but still very high protection gaps.  \n",
    "- A middle cluster of **medium-sized countries** with larger absolute losses but still gaps in the thousands of MEUR.  \n",
    "- A distinct group of **outliers** — Germany, France, Italy, Spain — with extremely high total losses and uninsured gaps, standing apart from the rest of Europe.  \n",
    "\n",
    "**Interpretation:**\n",
    "- Clustering reveals **risk tiers**: small countries, mid-tier, and major economies.  \n",
    "- This is more informative than regression, because it highlights where systemic underinsurance is most **financially threatening**.  \n",
    "- From a financial stability view, the biggest concern lies in the **large-economy outliers** — their protection gaps translate into systemic risk for insurers and governments.  \n"
   ]
  },
  {
   "cell_type": "code",
   "execution_count": null,
   "metadata": {},
   "outputs": [
    {
     "name": "stderr",
     "output_type": "stream",
     "text": [
      "c:\\ProgramData\\anaconda3\\Lib\\site-packages\\joblib\\externals\\loky\\backend\\context.py:136: UserWarning:\n",
      "\n",
      "Could not find the number of physical cores for the following reason:\n",
      "[WinError 2] The system cannot find the file specified\n",
      "Returning the number of logical cores instead. You can silence this warning by setting LOKY_MAX_CPU_COUNT to the number of cores you want to use.\n",
      "\n",
      "  File \"c:\\ProgramData\\anaconda3\\Lib\\site-packages\\joblib\\externals\\loky\\backend\\context.py\", line 257, in _count_physical_cores\n",
      "    cpu_info = subprocess.run(\n",
      "               ^^^^^^^^^^^^^^^\n",
      "  File \"c:\\ProgramData\\anaconda3\\Lib\\subprocess.py\", line 548, in run\n",
      "    with Popen(*popenargs, **kwargs) as process:\n",
      "         ^^^^^^^^^^^^^^^^^^^^^^^^^^^\n",
      "  File \"c:\\ProgramData\\anaconda3\\Lib\\subprocess.py\", line 1026, in __init__\n",
      "    self._execute_child(args, executable, preexec_fn, close_fds,\n",
      "  File \"c:\\ProgramData\\anaconda3\\Lib\\subprocess.py\", line 1538, in _execute_child\n",
      "    hp, ht, pid, tid = _winapi.CreateProcess(executable, args,\n",
      "                       ^^^^^^^^^^^^^^^^^^^^^^^^^^^^^^^^^^^^^^^\n",
      "c:\\ProgramData\\anaconda3\\Lib\\site-packages\\sklearn\\cluster\\_kmeans.py:1429: UserWarning:\n",
      "\n",
      "KMeans is known to have a memory leak on Windows with MKL, when there are less chunks than available threads. You can avoid it by setting the environment variable OMP_NUM_THREADS=1.\n",
      "\n"
     ]
    },
    {
     "data": {
      "image/png": "[encoded data removed]",
      "text/plain": [
       "<Figure size 800x600 with 2 Axes>"
      ]
     },
     "metadata": {},
     "output_type": "display_data"
    }
   ],
   "source": [
    "import pandas as pd\n",
    "import matplotlib.pyplot as plt\n",
    "from sklearn.cluster import KMeans\n",
    "from adjustText import adjust_text\n",
    "\n",
    "# Aggregate losses by country\n",
    "agg = merged.groupby(\"Country\").agg({\n",
    "    \"Total Loss in MEUR\": \"sum\",\n",
    "    \"Insured Loss in MEUR\": \"sum\",\n",
    "    \"Gap in MEUR\": \"sum\"\n",
    "}).reset_index()\n",
    "\n",
    "# Recalculate Gap % at country level\n",
    "agg[\"Gap (%)\"] = agg[\"Gap in MEUR\"] / agg[\"Total Loss in MEUR\"]\n",
    "\n",
    "# filter out countries with 0 values to avoid log(0)\n",
    "agg = agg[(agg[\"Total Loss in MEUR\"] > 0) & (agg[\"Gap in MEUR\"] > 0)]\n",
    "\n",
    "# KMeans clustering\n",
    "X = agg[[\"Total Loss in MEUR\",\"Gap in MEUR\"]]\n",
    "kmeans = KMeans(n_clusters=3, random_state=42).fit(X)\n",
    "agg[\"Cluster\"] = kmeans.labels_\n",
    "\n",
    "# Scatter plot\n",
    "plt.figure(figsize=(8,6))\n",
    "sc = plt.scatter(agg[\"Total Loss in MEUR\"], agg[\"Gap in MEUR\"],\n",
    "                 c=agg[\"Cluster\"], s=60, alpha=0.75)\n",
    "\n",
    "plt.xscale('log'); plt.yscale('log')\n",
    "plt.xlabel(\"Total Loss (MEUR, log)\")\n",
    "plt.ylabel(\"Gap (MEUR, log)\")\n",
    "plt.title(\"Country Clusters by Climate Loss & Protection Gap\")\n",
    "\n",
    "cbar = plt.colorbar(sc)\n",
    "cbar.set_label(\"Cluster\")\n",
    "\n",
    "plt.grid(True, which='both', linewidth=0.3)\n",
    "\n",
    "# annotate top 5 by gap size\n",
    "top = agg.nlargest(5, \"Gap in MEUR\")\n",
    "texts = []\n",
    "for _, r in top.iterrows():\n",
    "    texts.append(\n",
    "        plt.text(r[\"Total Loss in MEUR\"], r[\"Gap in MEUR\"], r[\"Country\"],\n",
    "                 fontsize=9, weight=\"bold\")\n",
    "    )\n",
    "\n",
    "adjust_text(texts, arrowprops=dict(arrowstyle=\"->\", color='gray', lw=0.7))\n",
    "plt.show()\n",
    "\n"
   ]
  }
 ],
 "metadata": {
  "kernelspec": {
   "display_name": "base",
   "language": "python",
   "name": "python3"
  },
  "language_info": {
   "codemirror_mode": {
    "name": "ipython",
    "version": 3
   },
   "file_extension": ".py",
   "mimetype": "text/x-python",
   "name": "python",
   "nbconvert_exporter": "python",
   "pygments_lexer": "ipython3",
   "version": "3.12.7"
  }
 },
 "nbformat": 4,
 "nbformat_minor": 2
}
